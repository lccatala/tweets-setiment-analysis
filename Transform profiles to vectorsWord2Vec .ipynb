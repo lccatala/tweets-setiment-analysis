{
 "cells": [
  {
   "cell_type": "markdown",
   "id": "c29ec7ae",
   "metadata": {},
   "source": [
    "# Tweets sentiment analysis"
   ]
  },
  {
   "cell_type": "markdown",
   "id": "07cd6d2d",
   "metadata": {},
   "source": [
    "### Importing the libraries"
   ]
  },
  {
   "cell_type": "code",
   "execution_count": 1,
   "id": "3064a15f",
   "metadata": {},
   "outputs": [
    {
     "data": {
      "text/plain": [
       "0"
      ]
     },
     "execution_count": 1,
     "metadata": {},
     "output_type": "execute_result"
    }
   ],
   "source": [
    "import os\n",
    "import numpy as np\n",
    "from nltk.tokenize import TweetTokenizer\n",
    "\n",
    "from gensim.test.utils import common_texts\n",
    "from gensim.models import Word2Vec\n",
    "from sklearn.feature_extraction.text import TfidfVectorizer, CountVectorizer \n",
    "import gensim\n",
    "\n",
    "import matplotlib.pyplot as plt\n",
    "\n",
    "#MANAGEMENT PURPOSES ONLY-\n",
    "from tqdm.notebook import tqdm\n",
    "import gc\n",
    "gc.collect()"
   ]
  },
  {
   "cell_type": "markdown",
   "id": "982f71e4",
   "metadata": {},
   "source": [
    "Set seed to ensure reproducibility"
   ]
  },
  {
   "cell_type": "code",
   "execution_count": 2,
   "id": "0f318ebb",
   "metadata": {},
   "outputs": [],
   "source": [
    "SEED = 32\n",
    "np.random.seed(SEED)"
   ]
  },
  {
   "cell_type": "markdown",
   "id": "7591d49b",
   "metadata": {},
   "source": [
    "### Load processed dataset"
   ]
  },
  {
   "cell_type": "code",
   "execution_count": 3,
   "id": "7759dcc7",
   "metadata": {},
   "outputs": [],
   "source": [
    "X = np.load('./data/X.npy', allow_pickle=True)\n",
    "y = np.load('./data/y.npy')"
   ]
  },
  {
   "cell_type": "code",
   "execution_count": 4,
   "id": "ef879f6f",
   "metadata": {},
   "outputs": [
    {
     "data": {
      "text/plain": [
       "(420, 200)"
      ]
     },
     "execution_count": 4,
     "metadata": {},
     "output_type": "execute_result"
    }
   ],
   "source": [
    "X.shape"
   ]
  },
  {
   "cell_type": "code",
   "execution_count": 5,
   "id": "eefbf9b9",
   "metadata": {},
   "outputs": [
    {
     "data": {
      "text/plain": [
       "\"#USER# I'll DM you my address.\""
      ]
     },
     "execution_count": 5,
     "metadata": {},
     "output_type": "execute_result"
    }
   ],
   "source": [
    "X[0][0]"
   ]
  },
  {
   "cell_type": "code",
   "execution_count": 6,
   "id": "e4c3a69a",
   "metadata": {},
   "outputs": [
    {
     "data": {
      "text/plain": [
       "1"
      ]
     },
     "execution_count": 6,
     "metadata": {},
     "output_type": "execute_result"
    }
   ],
   "source": [
    "y[0]"
   ]
  },
  {
   "cell_type": "code",
   "execution_count": 7,
   "id": "036128e5",
   "metadata": {},
   "outputs": [],
   "source": [
    "X = X.tolist()\n",
    "y = y.tolist()"
   ]
  },
  {
   "cell_type": "code",
   "execution_count": 8,
   "id": "b8240b31",
   "metadata": {},
   "outputs": [],
   "source": [
    "tweet_tokenizer = TweetTokenizer()\n",
    "model = Word2Vec(sentences=common_texts, vector_size=200, window=5, min_count=1, workers=4)"
   ]
  },
  {
   "cell_type": "code",
   "execution_count": 9,
   "id": "72a167ec",
   "metadata": {},
   "outputs": [
    {
     "data": {
      "application/vnd.jupyter.widget-view+json": {
       "model_id": "0f170f1598424d79a7540de2f47b9433",
       "version_major": 2,
       "version_minor": 0
      },
      "text/plain": [
       "  0%|          | 0/420 [00:00<?, ?it/s]"
      ]
     },
     "metadata": {},
     "output_type": "display_data"
    }
   ],
   "source": [
    "all_words = []\n",
    "all_tweets = []\n",
    "\n",
    "for profile in tqdm(X):\n",
    "    for tweet in profile:\n",
    "        tk = tweet_tokenizer.tokenize(tweet)\n",
    "        all_words.extend(tk)\n",
    "        all_tweets.append(tk)\n",
    "        "
   ]
  },
  {
   "cell_type": "code",
   "execution_count": 10,
   "id": "5ab95ae0",
   "metadata": {},
   "outputs": [
    {
     "data": {
      "text/plain": [
       "(2598632, 200)"
      ]
     },
     "execution_count": 10,
     "metadata": {},
     "output_type": "execute_result"
    }
   ],
   "source": [
    "tfidf_vectorizer = TfidfVectorizer(max_df=0.90, min_df=2, max_features=200, stop_words='english')\n",
    "tfidf = tfidf_vectorizer.fit_transform(all_words)\n",
    "tfidf.shape"
   ]
  },
  {
   "cell_type": "code",
   "execution_count": 11,
   "id": "b166d8a9",
   "metadata": {},
   "outputs": [],
   "source": [
    "model_w2v = Word2Vec(\n",
    "        all_tweets,\n",
    "        vector_size=200, # desired no. of features/independent variables\n",
    "        window=5, # context window size\n",
    "        min_count=0,                           \n",
    "        sg = 1, # 1 for skip-gram model\n",
    "        hs = 0,\n",
    "        negative = 10, # for negative sampling\n",
    "        workers= 8, # no.of cores\n",
    "        seed = SEED\n",
    ") "
   ]
  },
  {
   "cell_type": "code",
   "execution_count": 12,
   "id": "f5140403",
   "metadata": {},
   "outputs": [
    {
     "data": {
      "text/plain": [
       "(38221528, 51972640)"
      ]
     },
     "execution_count": 12,
     "metadata": {},
     "output_type": "execute_result"
    }
   ],
   "source": [
    "model_w2v.train(all_tweets, total_examples=200*len(X), epochs=20)"
   ]
  },
  {
   "cell_type": "code",
   "execution_count": 17,
   "id": "aab442f7",
   "metadata": {},
   "outputs": [],
   "source": [
    "def encode_profile(profile):\n",
    "    \n",
    "    data = []\n",
    "    # iterate through each sentence in the file\n",
    "    for tweet in profile:\n",
    "        # tokenize the sentence\n",
    "        tokenized_tweet = tweet_tokenizer.tokenize(tweet)\n",
    "        vectorized_tweet = np.zeros(200)\n",
    "        for word in tokenized_tweet:\n",
    "            try:\n",
    "                vectorized_tweet = vectorized_tweet + model_w2v.wv[word]\n",
    "            except:\n",
    "                vectorized_tweet = vectorized_tweet + model_w2v.wv[\"unknown\"]\n",
    "        data.append(vectorized_tweet)\n",
    "            \n",
    "    return np.asarray(data)"
   ]
  },
  {
   "cell_type": "code",
   "execution_count": 18,
   "id": "1954060d",
   "metadata": {},
   "outputs": [],
   "source": [
    "example_profile = X[0]"
   ]
  },
  {
   "cell_type": "code",
   "execution_count": 19,
   "id": "9f04a8a2",
   "metadata": {},
   "outputs": [
    {
     "name": "stdout",
     "output_type": "stream",
     "text": [
      "(200, 200)\n"
     ]
    }
   ],
   "source": [
    "e=encode_profile(example_profile)\n",
    "print(e.shape)"
   ]
  },
  {
   "cell_type": "code",
   "execution_count": 20,
   "id": "fd172859",
   "metadata": {},
   "outputs": [
    {
     "data": {
      "application/vnd.jupyter.widget-view+json": {
       "model_id": "a8dc1864866b484b9dea08258c605684",
       "version_major": 2,
       "version_minor": 0
      },
      "text/plain": [
       "Encoding Profiles:   0%|          | 0/420 [00:00<?, ?it/s]"
      ]
     },
     "metadata": {},
     "output_type": "display_data"
    }
   ],
   "source": [
    "encoded_profiles = {}\n",
    "for i in tqdm(range(len(X)), desc='Encoding Profiles'):\n",
    "    encoded_profiles[i] = np.sum(encode_profile(X[i]), axis=0)"
   ]
  },
  {
   "cell_type": "code",
   "execution_count": 21,
   "id": "ef6ec3a6",
   "metadata": {},
   "outputs": [
    {
     "data": {
      "text/plain": [
       "420"
      ]
     },
     "execution_count": 21,
     "metadata": {},
     "output_type": "execute_result"
    }
   ],
   "source": [
    "len(encoded_profiles)"
   ]
  },
  {
   "cell_type": "code",
   "execution_count": 22,
   "id": "3ba53cfb",
   "metadata": {},
   "outputs": [
    {
     "data": {
      "text/plain": [
       "(200,)"
      ]
     },
     "execution_count": 22,
     "metadata": {},
     "output_type": "execute_result"
    }
   ],
   "source": [
    "encoded_profiles[0].shape"
   ]
  },
  {
   "cell_type": "code",
   "execution_count": 23,
   "id": "9a8cd16e",
   "metadata": {},
   "outputs": [
    {
     "data": {
      "text/plain": [
       "array([  139.03746771, -1596.51716625,   -55.03529726,   754.14288216,\n",
       "         935.63348194,   -94.13947379, -1935.04442024,   958.6061436 ,\n",
       "        -720.58581398,  1882.79790292,   947.31115815,  -844.87213206,\n",
       "         454.2546937 ,   332.91593077,  1422.80350982,  -941.87401033,\n",
       "        1587.40539863,   774.00476438,    18.53832218,   181.44185229,\n",
       "         375.54564469,   572.59886276,  2989.22098782,  -391.80501315,\n",
       "         303.62366889,  -728.29402967,   199.41915773,  -190.37461662,\n",
       "        -193.53695471,   990.82347056,  -364.65634639,   709.0129572 ,\n",
       "       -1351.09331947,   777.46250006,  -689.34142165,  -491.33000694,\n",
       "        -130.1511354 ,  -778.28955836,   436.76864026,   838.39330007,\n",
       "         -44.24340629,   381.59901401,  -930.09838427,  1171.55345205,\n",
       "        -767.88138949,   414.47983796,   -43.90499798,  1247.58215985,\n",
       "        1165.56223529,   555.89849656,  1395.92647382,  1156.0308108 ,\n",
       "        1242.95623797,   603.70891176, -1280.79894063, -1799.28428555,\n",
       "        -153.53967133,    79.18836186,   360.43663274,  -698.0083695 ,\n",
       "       -1468.8210179 ,  -296.67268701,   881.54290879,  1044.86832451,\n",
       "        -426.64621839, -1299.70032168,    56.45152365,  -219.67079355,\n",
       "        -682.8260898 ,   412.44630373, -1007.83314734,  -308.18664856,\n",
       "        -870.21596142,   -48.82815386,   326.10602431,  -206.72388552,\n",
       "       -2134.17193546,    78.08450567,   502.99499948,   676.57064812,\n",
       "        1405.93191165,   775.5488967 , -1178.06116273,  -894.44548894,\n",
       "        1134.29305443,   614.57707538,  -678.15423534, -1577.48645119,\n",
       "         459.31246248,   962.0608885 ,   792.91702404,  -909.78828368,\n",
       "        -163.89222197,   997.12971064,  -104.85786145,  1079.33005049,\n",
       "       -1454.82801699,   494.43741449,  1543.00928283,   -18.9393265 ,\n",
       "        2013.24851337,  -205.46085702,  1129.92739429,  -126.07030767,\n",
       "        -182.88493843,  1444.99631658,   400.18385803,  -243.28147223,\n",
       "         -97.56699843,   430.94163237,   943.04807767,  1166.57290581,\n",
       "         469.08835459, -1403.00706655,   544.16139744,  1250.84454872,\n",
       "        -577.37637358,   314.00489798,   204.01545763,  -140.51527345,\n",
       "       -3301.8143263 ,  -522.20318725,   365.20422311,  -254.46570937,\n",
       "        1776.21029445,  -421.06316218,  -256.59361011,   546.12968768,\n",
       "       -1327.91704271,   642.19535953,   938.43622508,  -475.43091572,\n",
       "         599.4345793 ,  -741.28873338,  -307.78497418,  -213.26360254,\n",
       "         515.83300316, -1007.05352099,  1974.72011325,   227.37522799,\n",
       "        -179.17231847,  -382.36576596,  -408.3554321 ,  1872.52254519,\n",
       "        -268.28848034,   128.33233072, -2445.32671105,   213.76433261,\n",
       "        1025.3474451 ,   224.46855624,  -322.26171865,   365.98664268,\n",
       "         773.47901089, -1827.48458328,   387.52864203,  -349.65301927,\n",
       "        -954.58362064,  -787.73205221,  2136.59497825,   820.4542808 ,\n",
       "       -1002.7976971 , -1016.30824625,  -748.05953725,  1135.71276615,\n",
       "       -2439.51636944,  -904.51044284,   235.73393468,   435.74625607,\n",
       "        -605.72489483,   742.92250397,  1140.47292414,  -480.02706991,\n",
       "         478.46311117,   514.10456328,  -425.03437442,  -255.15454173,\n",
       "       -1076.24440238,  1812.86791344, -1072.16944549,   754.31707904,\n",
       "         729.81296561, -2472.5640992 ,  1718.64782781,  -335.00645114,\n",
       "        1711.14150445,   599.59685242, -1072.06687795,   636.31604509,\n",
       "       -1006.66951143, -1586.45270826,  -814.53028914,  1628.93904006,\n",
       "        -269.37039397,   790.87721536,    14.90637085,   371.65186933,\n",
       "       -2328.99867968,  1729.85071844,  -959.2741732 ,  -449.74864831])"
      ]
     },
     "execution_count": 23,
     "metadata": {},
     "output_type": "execute_result"
    }
   ],
   "source": [
    "encoded_profiles[0]"
   ]
  },
  {
   "cell_type": "code",
   "execution_count": 24,
   "id": "31372f14",
   "metadata": {},
   "outputs": [],
   "source": [
    "output_filepath = os.path.join('data', 'profile_vectors_word2vec')"
   ]
  },
  {
   "cell_type": "code",
   "execution_count": 26,
   "id": "dfa178f7",
   "metadata": {},
   "outputs": [
    {
     "data": {
      "application/vnd.jupyter.widget-view+json": {
       "model_id": "1fe397b2960f45daa9e2626ea5d1def0",
       "version_major": 2,
       "version_minor": 0
      },
      "text/plain": [
       "Saving Profiles:   0%|          | 0/420 [00:00<?, ?it/s]"
      ]
     },
     "metadata": {},
     "output_type": "display_data"
    }
   ],
   "source": [
    "for i in tqdm(range(len(X)), desc='Saving Profiles'):\n",
    "    np.save(os.path.join(output_filepath, str(i)+\".npy\"), encoded_profiles[i])\n"
   ]
  }
 ],
 "metadata": {
  "interpreter": {
   "hash": "1aefeb0411ff2deb48cb0c1bf7ff3c863ab32b7797b96d0e11ba3e8b832d229b"
  },
  "kernelspec": {
   "display_name": "Python 3.9 (tensorflow)",
   "language": "python",
   "name": "tensorflow"
  },
  "language_info": {
   "codemirror_mode": {
    "name": "ipython",
    "version": 3
   },
   "file_extension": ".py",
   "mimetype": "text/x-python",
   "name": "python",
   "nbconvert_exporter": "python",
   "pygments_lexer": "ipython3",
   "version": "3.9.7"
  }
 },
 "nbformat": 4,
 "nbformat_minor": 5
}
