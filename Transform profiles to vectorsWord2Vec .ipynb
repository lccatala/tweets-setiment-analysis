{
 "cells": [
  {
   "cell_type": "markdown",
   "id": "c29ec7ae",
   "metadata": {},
   "source": [
    "# Tweets sentiment analysis"
   ]
  },
  {
   "cell_type": "markdown",
   "id": "07cd6d2d",
   "metadata": {},
   "source": [
    "### Importing the libraries"
   ]
  },
  {
   "cell_type": "code",
   "execution_count": 3,
   "id": "3064a15f",
   "metadata": {},
   "outputs": [
    {
     "ename": "ValueError",
     "evalue": "numpy.ndarray size changed, may indicate binary incompatibility. Expected 88 from C header, got 80 from PyObject",
     "output_type": "error",
     "traceback": [
      "\u001b[1;31m---------------------------------------------------------------------------\u001b[0m",
      "\u001b[1;31mValueError\u001b[0m                                Traceback (most recent call last)",
      "\u001b[1;32mc:\\Users\\adria\\Desktop\\ALC\\Transform profiles to vectorsWord2Vec .ipynb Cell 3'\u001b[0m in \u001b[0;36m<cell line: 5>\u001b[1;34m()\u001b[0m\n\u001b[0;32m      <a href='vscode-notebook-cell:/c%3A/Users/adria/Desktop/ALC/Transform%20profiles%20to%20vectorsWord2Vec%20.ipynb#ch0000002?line=1'>2</a>\u001b[0m \u001b[39mimport\u001b[39;00m \u001b[39mnumpy\u001b[39;00m \u001b[39mas\u001b[39;00m \u001b[39mnp\u001b[39;00m\n\u001b[0;32m      <a href='vscode-notebook-cell:/c%3A/Users/adria/Desktop/ALC/Transform%20profiles%20to%20vectorsWord2Vec%20.ipynb#ch0000002?line=2'>3</a>\u001b[0m \u001b[39mfrom\u001b[39;00m \u001b[39mnltk\u001b[39;00m\u001b[39m.\u001b[39;00m\u001b[39mtokenize\u001b[39;00m \u001b[39mimport\u001b[39;00m TweetTokenizer\n\u001b[1;32m----> <a href='vscode-notebook-cell:/c%3A/Users/adria/Desktop/ALC/Transform%20profiles%20to%20vectorsWord2Vec%20.ipynb#ch0000002?line=4'>5</a>\u001b[0m \u001b[39mfrom\u001b[39;00m \u001b[39mgensim\u001b[39;00m\u001b[39m.\u001b[39;00m\u001b[39mtest\u001b[39;00m\u001b[39m.\u001b[39;00m\u001b[39mutils\u001b[39;00m \u001b[39mimport\u001b[39;00m common_texts\n\u001b[0;32m      <a href='vscode-notebook-cell:/c%3A/Users/adria/Desktop/ALC/Transform%20profiles%20to%20vectorsWord2Vec%20.ipynb#ch0000002?line=5'>6</a>\u001b[0m \u001b[39mfrom\u001b[39;00m \u001b[39mgensim\u001b[39;00m\u001b[39m.\u001b[39;00m\u001b[39mmodels\u001b[39;00m \u001b[39mimport\u001b[39;00m Word2Vec\n\u001b[0;32m      <a href='vscode-notebook-cell:/c%3A/Users/adria/Desktop/ALC/Transform%20profiles%20to%20vectorsWord2Vec%20.ipynb#ch0000002?line=6'>7</a>\u001b[0m \u001b[39mfrom\u001b[39;00m \u001b[39msklearn\u001b[39;00m\u001b[39m.\u001b[39;00m\u001b[39mfeature_extraction\u001b[39;00m\u001b[39m.\u001b[39;00m\u001b[39mtext\u001b[39;00m \u001b[39mimport\u001b[39;00m TfidfVectorizer, CountVectorizer \n",
      "File \u001b[1;32mc:\\Users\\adria\\anaconda3\\envs\\BIOM\\lib\\site-packages\\gensim\\__init__.py:11\u001b[0m, in \u001b[0;36m<module>\u001b[1;34m\u001b[0m\n\u001b[0;32m      <a href='file:///c%3A/Users/adria/anaconda3/envs/BIOM/lib/site-packages/gensim/__init__.py?line=6'>7</a>\u001b[0m __version__ \u001b[39m=\u001b[39m \u001b[39m'\u001b[39m\u001b[39m4.0.1\u001b[39m\u001b[39m'\u001b[39m\n\u001b[0;32m      <a href='file:///c%3A/Users/adria/anaconda3/envs/BIOM/lib/site-packages/gensim/__init__.py?line=8'>9</a>\u001b[0m \u001b[39mimport\u001b[39;00m \u001b[39mlogging\u001b[39;00m\n\u001b[1;32m---> <a href='file:///c%3A/Users/adria/anaconda3/envs/BIOM/lib/site-packages/gensim/__init__.py?line=10'>11</a>\u001b[0m \u001b[39mfrom\u001b[39;00m \u001b[39mgensim\u001b[39;00m \u001b[39mimport\u001b[39;00m parsing, corpora, matutils, interfaces, models, similarities, utils  \u001b[39m# noqa:F401\u001b[39;00m\n\u001b[0;32m     <a href='file:///c%3A/Users/adria/anaconda3/envs/BIOM/lib/site-packages/gensim/__init__.py?line=13'>14</a>\u001b[0m logger \u001b[39m=\u001b[39m logging\u001b[39m.\u001b[39mgetLogger(\u001b[39m'\u001b[39m\u001b[39mgensim\u001b[39m\u001b[39m'\u001b[39m)\n\u001b[0;32m     <a href='file:///c%3A/Users/adria/anaconda3/envs/BIOM/lib/site-packages/gensim/__init__.py?line=14'>15</a>\u001b[0m \u001b[39mif\u001b[39;00m \u001b[39mnot\u001b[39;00m logger\u001b[39m.\u001b[39mhandlers:  \u001b[39m# To ensure reload() doesn't add another one\u001b[39;00m\n",
      "File \u001b[1;32mc:\\Users\\adria\\anaconda3\\envs\\BIOM\\lib\\site-packages\\gensim\\corpora\\__init__.py:6\u001b[0m, in \u001b[0;36m<module>\u001b[1;34m\u001b[0m\n\u001b[0;32m      <a href='file:///c%3A/Users/adria/anaconda3/envs/BIOM/lib/site-packages/gensim/corpora/__init__.py?line=0'>1</a>\u001b[0m \u001b[39m\"\"\"\u001b[39;00m\n\u001b[0;32m      <a href='file:///c%3A/Users/adria/anaconda3/envs/BIOM/lib/site-packages/gensim/corpora/__init__.py?line=1'>2</a>\u001b[0m \u001b[39mThis package contains implementations of various streaming corpus I/O format.\u001b[39;00m\n\u001b[0;32m      <a href='file:///c%3A/Users/adria/anaconda3/envs/BIOM/lib/site-packages/gensim/corpora/__init__.py?line=2'>3</a>\u001b[0m \u001b[39m\"\"\"\u001b[39;00m\n\u001b[0;32m      <a href='file:///c%3A/Users/adria/anaconda3/envs/BIOM/lib/site-packages/gensim/corpora/__init__.py?line=4'>5</a>\u001b[0m \u001b[39m# bring corpus classes directly into package namespace, to save some typing\u001b[39;00m\n\u001b[1;32m----> <a href='file:///c%3A/Users/adria/anaconda3/envs/BIOM/lib/site-packages/gensim/corpora/__init__.py?line=5'>6</a>\u001b[0m \u001b[39mfrom\u001b[39;00m \u001b[39m.\u001b[39;00m\u001b[39mindexedcorpus\u001b[39;00m \u001b[39mimport\u001b[39;00m IndexedCorpus  \u001b[39m# noqa:F401 must appear before the other classes\u001b[39;00m\n\u001b[0;32m      <a href='file:///c%3A/Users/adria/anaconda3/envs/BIOM/lib/site-packages/gensim/corpora/__init__.py?line=7'>8</a>\u001b[0m \u001b[39mfrom\u001b[39;00m \u001b[39m.\u001b[39;00m\u001b[39mmmcorpus\u001b[39;00m \u001b[39mimport\u001b[39;00m MmCorpus  \u001b[39m# noqa:F401\u001b[39;00m\n\u001b[0;32m      <a href='file:///c%3A/Users/adria/anaconda3/envs/BIOM/lib/site-packages/gensim/corpora/__init__.py?line=8'>9</a>\u001b[0m \u001b[39mfrom\u001b[39;00m \u001b[39m.\u001b[39;00m\u001b[39mbleicorpus\u001b[39;00m \u001b[39mimport\u001b[39;00m BleiCorpus  \u001b[39m# noqa:F401\u001b[39;00m\n",
      "File \u001b[1;32mc:\\Users\\adria\\anaconda3\\envs\\BIOM\\lib\\site-packages\\gensim\\corpora\\indexedcorpus.py:14\u001b[0m, in \u001b[0;36m<module>\u001b[1;34m\u001b[0m\n\u001b[0;32m     <a href='file:///c%3A/Users/adria/anaconda3/envs/BIOM/lib/site-packages/gensim/corpora/indexedcorpus.py?line=9'>10</a>\u001b[0m \u001b[39mimport\u001b[39;00m \u001b[39mlogging\u001b[39;00m\n\u001b[0;32m     <a href='file:///c%3A/Users/adria/anaconda3/envs/BIOM/lib/site-packages/gensim/corpora/indexedcorpus.py?line=11'>12</a>\u001b[0m \u001b[39mimport\u001b[39;00m \u001b[39mnumpy\u001b[39;00m\n\u001b[1;32m---> <a href='file:///c%3A/Users/adria/anaconda3/envs/BIOM/lib/site-packages/gensim/corpora/indexedcorpus.py?line=13'>14</a>\u001b[0m \u001b[39mfrom\u001b[39;00m \u001b[39mgensim\u001b[39;00m \u001b[39mimport\u001b[39;00m interfaces, utils\n\u001b[0;32m     <a href='file:///c%3A/Users/adria/anaconda3/envs/BIOM/lib/site-packages/gensim/corpora/indexedcorpus.py?line=15'>16</a>\u001b[0m logger \u001b[39m=\u001b[39m logging\u001b[39m.\u001b[39mgetLogger(\u001b[39m__name__\u001b[39m)\n\u001b[0;32m     <a href='file:///c%3A/Users/adria/anaconda3/envs/BIOM/lib/site-packages/gensim/corpora/indexedcorpus.py?line=18'>19</a>\u001b[0m \u001b[39mclass\u001b[39;00m \u001b[39mIndexedCorpus\u001b[39;00m(interfaces\u001b[39m.\u001b[39mCorpusABC):\n",
      "File \u001b[1;32mc:\\Users\\adria\\anaconda3\\envs\\BIOM\\lib\\site-packages\\gensim\\interfaces.py:19\u001b[0m, in \u001b[0;36m<module>\u001b[1;34m\u001b[0m\n\u001b[0;32m      <a href='file:///c%3A/Users/adria/anaconda3/envs/BIOM/lib/site-packages/gensim/interfaces.py?line=6'>7</a>\u001b[0m \u001b[39m\"\"\"Basic interfaces used across the whole Gensim package.\u001b[39;00m\n\u001b[0;32m      <a href='file:///c%3A/Users/adria/anaconda3/envs/BIOM/lib/site-packages/gensim/interfaces.py?line=7'>8</a>\u001b[0m \n\u001b[0;32m      <a href='file:///c%3A/Users/adria/anaconda3/envs/BIOM/lib/site-packages/gensim/interfaces.py?line=8'>9</a>\u001b[0m \u001b[39mThese interfaces are used for building corpora, model transformation and similarity queries.\u001b[39;00m\n\u001b[1;32m   (...)\u001b[0m\n\u001b[0;32m     <a href='file:///c%3A/Users/adria/anaconda3/envs/BIOM/lib/site-packages/gensim/interfaces.py?line=13'>14</a>\u001b[0m \n\u001b[0;32m     <a href='file:///c%3A/Users/adria/anaconda3/envs/BIOM/lib/site-packages/gensim/interfaces.py?line=14'>15</a>\u001b[0m \u001b[39m\"\"\"\u001b[39;00m\n\u001b[0;32m     <a href='file:///c%3A/Users/adria/anaconda3/envs/BIOM/lib/site-packages/gensim/interfaces.py?line=16'>17</a>\u001b[0m \u001b[39mimport\u001b[39;00m \u001b[39mlogging\u001b[39;00m\n\u001b[1;32m---> <a href='file:///c%3A/Users/adria/anaconda3/envs/BIOM/lib/site-packages/gensim/interfaces.py?line=18'>19</a>\u001b[0m \u001b[39mfrom\u001b[39;00m \u001b[39mgensim\u001b[39;00m \u001b[39mimport\u001b[39;00m utils, matutils\n\u001b[0;32m     <a href='file:///c%3A/Users/adria/anaconda3/envs/BIOM/lib/site-packages/gensim/interfaces.py?line=21'>22</a>\u001b[0m logger \u001b[39m=\u001b[39m logging\u001b[39m.\u001b[39mgetLogger(\u001b[39m__name__\u001b[39m)\n\u001b[0;32m     <a href='file:///c%3A/Users/adria/anaconda3/envs/BIOM/lib/site-packages/gensim/interfaces.py?line=24'>25</a>\u001b[0m \u001b[39mclass\u001b[39;00m \u001b[39mCorpusABC\u001b[39;00m(utils\u001b[39m.\u001b[39mSaveLoad):\n",
      "File \u001b[1;32mc:\\Users\\adria\\anaconda3\\envs\\BIOM\\lib\\site-packages\\gensim\\matutils.py:1031\u001b[0m, in \u001b[0;36m<module>\u001b[1;34m\u001b[0m\n\u001b[0;32m   <a href='file:///c%3A/Users/adria/anaconda3/envs/BIOM/lib/site-packages/gensim/matutils.py?line=1026'>1027</a>\u001b[0m \u001b[39mdef\u001b[39;00m \u001b[39mlogsumexp\u001b[39m(x):\n\u001b[0;32m   <a href='file:///c%3A/Users/adria/anaconda3/envs/BIOM/lib/site-packages/gensim/matutils.py?line=1027'>1028</a>\u001b[0m     \u001b[39m\"\"\"Log of sum of exponentials.\u001b[39;00m\n\u001b[0;32m   <a href='file:///c%3A/Users/adria/anaconda3/envs/BIOM/lib/site-packages/gensim/matutils.py?line=1028'>1029</a>\u001b[0m \n\u001b[0;32m   <a href='file:///c%3A/Users/adria/anaconda3/envs/BIOM/lib/site-packages/gensim/matutils.py?line=1029'>1030</a>\u001b[0m \u001b[39m    Parameters\u001b[39;00m\n\u001b[1;32m-> <a href='file:///c%3A/Users/adria/anaconda3/envs/BIOM/lib/site-packages/gensim/matutils.py?line=1030'>1031</a>\u001b[0m \u001b[39m    ----------\u001b[39;00m\n\u001b[0;32m   <a href='file:///c%3A/Users/adria/anaconda3/envs/BIOM/lib/site-packages/gensim/matutils.py?line=1031'>1032</a>\u001b[0m \u001b[39m    x : numpy.ndarray\u001b[39;00m\n\u001b[0;32m   <a href='file:///c%3A/Users/adria/anaconda3/envs/BIOM/lib/site-packages/gensim/matutils.py?line=1032'>1033</a>\u001b[0m \u001b[39m        Input 2d matrix.\u001b[39;00m\n\u001b[0;32m   <a href='file:///c%3A/Users/adria/anaconda3/envs/BIOM/lib/site-packages/gensim/matutils.py?line=1033'>1034</a>\u001b[0m \n\u001b[0;32m   <a href='file:///c%3A/Users/adria/anaconda3/envs/BIOM/lib/site-packages/gensim/matutils.py?line=1034'>1035</a>\u001b[0m \u001b[39m    Returns\u001b[39;00m\n\u001b[0;32m   <a href='file:///c%3A/Users/adria/anaconda3/envs/BIOM/lib/site-packages/gensim/matutils.py?line=1035'>1036</a>\u001b[0m \u001b[39m    -------\u001b[39;00m\n\u001b[0;32m   <a href='file:///c%3A/Users/adria/anaconda3/envs/BIOM/lib/site-packages/gensim/matutils.py?line=1036'>1037</a>\u001b[0m \u001b[39m    float\u001b[39;00m\n\u001b[0;32m   <a href='file:///c%3A/Users/adria/anaconda3/envs/BIOM/lib/site-packages/gensim/matutils.py?line=1037'>1038</a>\u001b[0m \u001b[39m        log of sum of exponentials of elements in `x`.\u001b[39;00m\n\u001b[0;32m   <a href='file:///c%3A/Users/adria/anaconda3/envs/BIOM/lib/site-packages/gensim/matutils.py?line=1038'>1039</a>\u001b[0m \n\u001b[0;32m   <a href='file:///c%3A/Users/adria/anaconda3/envs/BIOM/lib/site-packages/gensim/matutils.py?line=1039'>1040</a>\u001b[0m \u001b[39m    Warnings\u001b[39;00m\n\u001b[0;32m   <a href='file:///c%3A/Users/adria/anaconda3/envs/BIOM/lib/site-packages/gensim/matutils.py?line=1040'>1041</a>\u001b[0m \u001b[39m    --------\u001b[39;00m\n\u001b[0;32m   <a href='file:///c%3A/Users/adria/anaconda3/envs/BIOM/lib/site-packages/gensim/matutils.py?line=1041'>1042</a>\u001b[0m \u001b[39m    For performance reasons, doesn't support NaNs or 1d, 3d, etc arrays like :func:`scipy.special.logsumexp`.\u001b[39;00m\n\u001b[0;32m   <a href='file:///c%3A/Users/adria/anaconda3/envs/BIOM/lib/site-packages/gensim/matutils.py?line=1042'>1043</a>\u001b[0m \n\u001b[0;32m   <a href='file:///c%3A/Users/adria/anaconda3/envs/BIOM/lib/site-packages/gensim/matutils.py?line=1043'>1044</a>\u001b[0m \u001b[39m    \"\"\"\u001b[39;00m\n\u001b[0;32m   <a href='file:///c%3A/Users/adria/anaconda3/envs/BIOM/lib/site-packages/gensim/matutils.py?line=1044'>1045</a>\u001b[0m     x_max \u001b[39m=\u001b[39m np\u001b[39m.\u001b[39mmax(x)\n\u001b[0;32m   <a href='file:///c%3A/Users/adria/anaconda3/envs/BIOM/lib/site-packages/gensim/matutils.py?line=1045'>1046</a>\u001b[0m     x \u001b[39m=\u001b[39m np\u001b[39m.\u001b[39mlog(np\u001b[39m.\u001b[39msum(np\u001b[39m.\u001b[39mexp(x \u001b[39m-\u001b[39m x_max)))\n",
      "File \u001b[1;32mc:\\Users\\adria\\anaconda3\\envs\\BIOM\\lib\\site-packages\\gensim\\_matutils.pyx:1\u001b[0m, in \u001b[0;36minit gensim._matutils\u001b[1;34m()\u001b[0m\n",
      "\u001b[1;31mValueError\u001b[0m: numpy.ndarray size changed, may indicate binary incompatibility. Expected 88 from C header, got 80 from PyObject"
     ]
    }
   ],
   "source": [
    "import os\n",
    "import numpy as np\n",
    "from nltk.tokenize import TweetTokenizer\n",
    "\n",
    "from gensim.test.utils import common_texts\n",
    "from gensim.models import Word2Vec\n",
    "from sklearn.feature_extraction.text import TfidfVectorizer, CountVectorizer \n",
    "import gensim\n",
    "\n",
    "import matplotlib.pyplot as plt\n",
    "\n",
    "#MANAGEMENT PURPOSES ONLY-\n",
    "from tqdm.notebook import tqdm\n",
    "import gc\n",
    "gc.collect()"
   ]
  },
  {
   "cell_type": "markdown",
   "id": "982f71e4",
   "metadata": {},
   "source": [
    "Set seed to ensure reproducibility"
   ]
  },
  {
   "cell_type": "code",
   "execution_count": null,
   "id": "0f318ebb",
   "metadata": {},
   "outputs": [],
   "source": [
    "SEED = 32\n",
    "np.random.seed(SEED)"
   ]
  },
  {
   "cell_type": "markdown",
   "id": "7591d49b",
   "metadata": {},
   "source": [
    "### Load processed dataset"
   ]
  },
  {
   "cell_type": "code",
   "execution_count": null,
   "id": "7759dcc7",
   "metadata": {},
   "outputs": [],
   "source": [
    "X = np.load('./data/X.npy', allow_pickle=True)\n",
    "y = np.load('./data/y.npy')"
   ]
  },
  {
   "cell_type": "code",
   "execution_count": null,
   "id": "ef879f6f",
   "metadata": {},
   "outputs": [],
   "source": [
    "X.shape"
   ]
  },
  {
   "cell_type": "code",
   "execution_count": null,
   "id": "eefbf9b9",
   "metadata": {},
   "outputs": [],
   "source": [
    "X[0][0]"
   ]
  },
  {
   "cell_type": "code",
   "execution_count": null,
   "id": "e4c3a69a",
   "metadata": {},
   "outputs": [],
   "source": [
    "y[0]"
   ]
  },
  {
   "cell_type": "code",
   "execution_count": null,
   "id": "036128e5",
   "metadata": {},
   "outputs": [],
   "source": [
    "X = X.tolist()\n",
    "y = y.tolist()"
   ]
  },
  {
   "cell_type": "code",
   "execution_count": null,
   "id": "b8240b31",
   "metadata": {},
   "outputs": [],
   "source": [
    "tweet_tokenizer = TweetTokenizer()\n",
    "model = Word2Vec(sentences=common_texts, vector_size=200, window=5, min_count=1, workers=4)"
   ]
  },
  {
   "cell_type": "code",
   "execution_count": null,
   "id": "72a167ec",
   "metadata": {},
   "outputs": [],
   "source": [
    "all_words = []\n",
    "all_tweets = []\n",
    "\n",
    "for profile in tqdm(X):\n",
    "    for tweet in profile:\n",
    "        tk = tweet_tokenizer.tokenize(tweet)\n",
    "        all_words.extend(tk)\n",
    "        all_tweets.append(tk)\n",
    "        "
   ]
  },
  {
   "cell_type": "code",
   "execution_count": null,
   "id": "5ab95ae0",
   "metadata": {},
   "outputs": [],
   "source": [
    "tfidf_vectorizer = TfidfVectorizer(max_df=0.90, min_df=2, max_features=200, stop_words='english')\n",
    "tfidf = tfidf_vectorizer.fit_transform(all_words)\n",
    "tfidf.shape"
   ]
  },
  {
   "cell_type": "code",
   "execution_count": null,
   "id": "b166d8a9",
   "metadata": {},
   "outputs": [],
   "source": [
    "model_w2v = Word2Vec(\n",
    "        all_tweets,\n",
    "        vector_size=200, # desired no. of features/independent variables\n",
    "        window=5, # context window size\n",
    "        min_count=0,                           \n",
    "        sg = 1, # 1 for skip-gram model\n",
    "        hs = 0,\n",
    "        negative = 10, # for negative sampling\n",
    "        workers= 8, # no.of cores\n",
    "        seed = SEED\n",
    ") "
   ]
  },
  {
   "cell_type": "code",
   "execution_count": null,
   "id": "f5140403",
   "metadata": {},
   "outputs": [],
   "source": [
    "model_w2v.train(all_tweets, total_examples=200*len(X), epochs=20)"
   ]
  },
  {
   "cell_type": "code",
   "execution_count": null,
   "id": "aab442f7",
   "metadata": {},
   "outputs": [],
   "source": [
    "def encode_profile(profile):\n",
    "    \n",
    "    data = []\n",
    "    # iterate through each sentence in the file\n",
    "    for tweet in profile:\n",
    "        # tokenize the sentence\n",
    "        tokenized_tweet = tweet_tokenizer.tokenize(tweet)\n",
    "        vectorized_tweet = np.zeros(200)\n",
    "        for word in tokenized_tweet:\n",
    "            try:\n",
    "                vectorized_tweet = vectorized_tweet + model_w2v.wv[word]\n",
    "            except:\n",
    "                vectorized_tweet = vectorized_tweet + model_w2v.wv[\"unknown\"]\n",
    "        data.append(vectorized_tweet)\n",
    "            \n",
    "    return np.asarray(data)"
   ]
  },
  {
   "cell_type": "code",
   "execution_count": null,
   "id": "1954060d",
   "metadata": {},
   "outputs": [],
   "source": [
    "example_profile = X[0]"
   ]
  },
  {
   "cell_type": "code",
   "execution_count": null,
   "id": "9f04a8a2",
   "metadata": {},
   "outputs": [],
   "source": [
    "e=encode_profile(example_profile)\n",
    "print(e.shape)"
   ]
  },
  {
   "cell_type": "code",
   "execution_count": null,
   "id": "fd172859",
   "metadata": {},
   "outputs": [],
   "source": [
    "encoded_profiles = {}\n",
    "for i in tqdm(range(len(X)), desc='Encoding Profiles'):\n",
    "    encoded_profiles[i] = np.sum(encode_profile(X[i]), axis=0)"
   ]
  },
  {
   "cell_type": "code",
   "execution_count": null,
   "id": "ef6ec3a6",
   "metadata": {},
   "outputs": [],
   "source": [
    "len(encoded_profiles)"
   ]
  },
  {
   "cell_type": "code",
   "execution_count": null,
   "id": "3ba53cfb",
   "metadata": {},
   "outputs": [],
   "source": [
    "encoded_profiles[0].shape"
   ]
  },
  {
   "cell_type": "code",
   "execution_count": null,
   "id": "31372f14",
   "metadata": {},
   "outputs": [],
   "source": [
    "output_filepath = os.path.join('data', 'profile_matrices_word2vec')"
   ]
  },
  {
   "cell_type": "code",
   "execution_count": null,
   "id": "dfa178f7",
   "metadata": {},
   "outputs": [],
   "source": [
    "for i in tqdm(range(len(X)), desc='Saving Profiles'):\n",
    "    np.save(os.path.join(output_filepath, str(i)+\".npy\"), encoded_profiles[i])\n"
   ]
  },
  {
   "cell_type": "code",
   "execution_count": null,
   "id": "8a765a3a",
   "metadata": {},
   "outputs": [],
   "source": [
    "plt.imshow(encoded_profiles[0]-encoded_profiles[8])"
   ]
  },
  {
   "cell_type": "code",
   "execution_count": null,
   "id": "35ebdee3",
   "metadata": {},
   "outputs": [],
   "source": [
    "plt.imshow(encoded_profiles[80])"
   ]
  }
 ],
 "metadata": {
  "interpreter": {
   "hash": "1aefeb0411ff2deb48cb0c1bf7ff3c863ab32b7797b96d0e11ba3e8b832d229b"
  },
  "kernelspec": {
   "display_name": "Python 3.8.13 ('BIOM')",
   "language": "python",
   "name": "python3"
  },
  "language_info": {
   "codemirror_mode": {
    "name": "ipython",
    "version": 3
   },
   "file_extension": ".py",
   "mimetype": "text/x-python",
   "name": "python",
   "nbconvert_exporter": "python",
   "pygments_lexer": "ipython3",
   "version": "3.8.13"
  }
 },
 "nbformat": 4,
 "nbformat_minor": 5
}
