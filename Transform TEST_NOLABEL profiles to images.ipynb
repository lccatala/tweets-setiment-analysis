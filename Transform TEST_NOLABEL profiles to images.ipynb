{
 "cells": [
  {
   "cell_type": "markdown",
   "id": "c29ec7ae",
   "metadata": {},
   "source": [
    "# Tweets sentiment analysis"
   ]
  },
  {
   "cell_type": "markdown",
   "id": "07cd6d2d",
   "metadata": {},
   "source": [
    "### Importing the libraries"
   ]
  },
  {
   "cell_type": "code",
   "execution_count": 1,
   "id": "3fa811e4",
   "metadata": {},
   "outputs": [],
   "source": [
    "import os\n",
    "os.environ['CUDA_LAUNCH_BLOCKING'] = \"1\""
   ]
  },
  {
   "cell_type": "code",
   "execution_count": 2,
   "id": "3064a15f",
   "metadata": {},
   "outputs": [],
   "source": [
    "import torch\n",
    "from torch.utils.data import Dataset, DataLoader\n",
    "\n",
    "from transformers import BertModel, BertTokenizer\n",
    "\n",
    "import numpy as np\n",
    "\n",
    "#MANAGEMENT PURPOSES ONLY-\n",
    "from tqdm.notebook import tqdm\n",
    "import gc\n",
    "gc.collect()\n",
    "torch.cuda.empty_cache()"
   ]
  },
  {
   "cell_type": "code",
   "execution_count": 3,
   "id": "57ecf06b",
   "metadata": {},
   "outputs": [],
   "source": [
    "pre_trained_model = 'bert-base-cased'"
   ]
  },
  {
   "cell_type": "markdown",
   "id": "982f71e4",
   "metadata": {},
   "source": [
    "Set seed to ensure reproducibility"
   ]
  },
  {
   "cell_type": "code",
   "execution_count": 4,
   "id": "0f318ebb",
   "metadata": {},
   "outputs": [
    {
     "data": {
      "text/plain": [
       "<torch._C.Generator at 0x1692b897d70>"
      ]
     },
     "execution_count": 4,
     "metadata": {},
     "output_type": "execute_result"
    }
   ],
   "source": [
    "SEED = 32\n",
    "np.random.seed(SEED)\n",
    "torch.manual_seed(SEED)"
   ]
  },
  {
   "cell_type": "markdown",
   "id": "c7862770",
   "metadata": {},
   "source": [
    "Set CUDA if available"
   ]
  },
  {
   "cell_type": "code",
   "execution_count": 5,
   "id": "ce217129",
   "metadata": {},
   "outputs": [
    {
     "name": "stdout",
     "output_type": "stream",
     "text": [
      "cuda\n",
      "11.3\n"
     ]
    }
   ],
   "source": [
    "device = torch.device('cuda' if torch.cuda.is_available() else 'cpu')\n",
    "print(device)\n",
    "print(torch.version.cuda) "
   ]
  },
  {
   "cell_type": "markdown",
   "id": "7591d49b",
   "metadata": {},
   "source": [
    "### Load processed dataset"
   ]
  },
  {
   "cell_type": "code",
   "execution_count": 6,
   "id": "7759dcc7",
   "metadata": {},
   "outputs": [],
   "source": [
    "X = np.load('./data/X.npy', allow_pickle=True)\n",
    "y = np.load('./data/y.npy')\n",
    "\n",
    "X_NOLABEL = np.load('./data/X_TEST_NO_LABEL.npy', allow_pickle=True)"
   ]
  },
  {
   "cell_type": "code",
   "execution_count": 7,
   "id": "ef879f6f",
   "metadata": {},
   "outputs": [
    {
     "data": {
      "text/plain": [
       "(420, 200)"
      ]
     },
     "execution_count": 7,
     "metadata": {},
     "output_type": "execute_result"
    }
   ],
   "source": [
    "X.shape"
   ]
  },
  {
   "cell_type": "code",
   "execution_count": 8,
   "id": "eefbf9b9",
   "metadata": {},
   "outputs": [
    {
     "data": {
      "text/plain": [
       "\"#USER# I'll DM you my address.\""
      ]
     },
     "execution_count": 8,
     "metadata": {},
     "output_type": "execute_result"
    }
   ],
   "source": [
    "X[0][0]"
   ]
  },
  {
   "cell_type": "code",
   "execution_count": 9,
   "id": "dfe72759",
   "metadata": {},
   "outputs": [
    {
     "data": {
      "text/plain": [
       "'Thursday games. Yet another triumph for #USER# #HASHTAG# #HASHTAG#'"
      ]
     },
     "execution_count": 9,
     "metadata": {},
     "output_type": "execute_result"
    }
   ],
   "source": [
    "X_NOLABEL[0][0]"
   ]
  },
  {
   "cell_type": "code",
   "execution_count": 10,
   "id": "e4c3a69a",
   "metadata": {},
   "outputs": [
    {
     "data": {
      "text/plain": [
       "1"
      ]
     },
     "execution_count": 10,
     "metadata": {},
     "output_type": "execute_result"
    }
   ],
   "source": [
    "y[0]"
   ]
  },
  {
   "cell_type": "markdown",
   "id": "0e47c595",
   "metadata": {},
   "source": [
    "### Define a tokenizer"
   ]
  },
  {
   "cell_type": "code",
   "execution_count": 11,
   "id": "1a22bb84",
   "metadata": {},
   "outputs": [],
   "source": [
    "tokenizer = BertTokenizer.from_pretrained(pre_trained_model, do_lower_case=False)"
   ]
  },
  {
   "cell_type": "code",
   "execution_count": 12,
   "id": "4663a828",
   "metadata": {},
   "outputs": [],
   "source": [
    "def get_encoding(text, max_length, truncation=True):\n",
    "    return tokenizer.encode_plus(\n",
    "            text, \n",
    "            max_length=max_length, \n",
    "            add_special_tokens=True,\n",
    "            return_token_type_ids=False, \n",
    "            padding='max_length', \n",
    "            truncation=truncation,\n",
    "            return_attention_mask=True, \n",
    "            return_tensors='pt')"
   ]
  },
  {
   "cell_type": "markdown",
   "id": "f05752e1",
   "metadata": {},
   "source": [
    "Lets see an example of tokenizing a tweet:"
   ]
  },
  {
   "cell_type": "code",
   "execution_count": 13,
   "id": "1dfc5b9e",
   "metadata": {},
   "outputs": [],
   "source": [
    "example_text = X[0][0]\n",
    "encoding = get_encoding(example_text, 32, truncation=False)"
   ]
  },
  {
   "cell_type": "code",
   "execution_count": 14,
   "id": "e09ac704",
   "metadata": {},
   "outputs": [
    {
     "data": {
      "text/plain": [
       "\"#USER# I'll DM you my address.\""
      ]
     },
     "execution_count": 14,
     "metadata": {},
     "output_type": "execute_result"
    }
   ],
   "source": [
    "example_text"
   ]
  },
  {
   "cell_type": "code",
   "execution_count": 15,
   "id": "1c8e6717",
   "metadata": {},
   "outputs": [
    {
     "name": "stdout",
     "output_type": "stream",
     "text": [
      "['[CLS]', '#', 'US', '##ER', '#', 'I', \"'\", 'll', 'D', '##M', 'you', 'my', 'address', '.', '[SEP]', '[PAD]', '[PAD]', '[PAD]', '[PAD]', '[PAD]', '[PAD]', '[PAD]', '[PAD]', '[PAD]', '[PAD]', '[PAD]', '[PAD]', '[PAD]', '[PAD]', '[PAD]', '[PAD]', '[PAD]']\n"
     ]
    }
   ],
   "source": [
    "print(tokenizer.convert_ids_to_tokens(encoding['input_ids'][0]))"
   ]
  },
  {
   "cell_type": "code",
   "execution_count": null,
   "id": "1bbfabdc",
   "metadata": {},
   "outputs": [],
   "source": [
    "# Length of the heading, body and space separator\n",
    "token_lengths = {}\n",
    "max_value = -1\n",
    "for user in tqdm(range(X.shape[0]), desc='Profiles'):\n",
    "    for tweet in range(X.shape[1]):\n",
    "        text = X[user][tweet]\n",
    "        l = len(tokenizer.encode(text, max_length=280, truncation=True))\n",
    "        if l not in token_lengths:\n",
    "            token_lengths[l] = 0\n",
    "        token_lengths[l] += 1\n",
    "        max_value = max(max_value, token_lengths[l])"
   ]
  },
  {
   "cell_type": "code",
   "execution_count": null,
   "id": "0cb800f9",
   "metadata": {},
   "outputs": [],
   "source": [
    "# Normalize the counts\n",
    "for key in token_lengths:\n",
    "    token_lengths[key] = token_lengths[key] / max_value"
   ]
  },
  {
   "cell_type": "code",
   "execution_count": null,
   "id": "79744c48",
   "metadata": {},
   "outputs": [],
   "source": [
    "import matplotlib.pyplot as plt\n",
    "plot_threshold = 0.01\n",
    "plt.bar(list(token_lengths.keys()), token_lengths.values(), color='b')\n",
    "plt.xlim([min([key for key in token_lengths.keys() if token_lengths[key] > plot_threshold]), max([key for key in token_lengths.keys() if token_lengths[key] > plot_threshold])])\n",
    "plt.show()"
   ]
  },
  {
   "cell_type": "code",
   "execution_count": 16,
   "id": "25b2970b",
   "metadata": {},
   "outputs": [],
   "source": [
    "MAX_TOKEN_LENGTH = 100"
   ]
  },
  {
   "cell_type": "markdown",
   "id": "96831fea",
   "metadata": {},
   "source": [
    "### Process tweets into matrices"
   ]
  },
  {
   "cell_type": "code",
   "execution_count": 17,
   "id": "8093ecf4",
   "metadata": {},
   "outputs": [
    {
     "name": "stderr",
     "output_type": "stream",
     "text": [
      "Some weights of the model checkpoint at bert-base-cased were not used when initializing BertModel: ['cls.predictions.bias', 'cls.seq_relationship.bias', 'cls.seq_relationship.weight', 'cls.predictions.transform.LayerNorm.bias', 'cls.predictions.transform.dense.weight', 'cls.predictions.decoder.weight', 'cls.predictions.transform.dense.bias', 'cls.predictions.transform.LayerNorm.weight']\n",
      "- This IS expected if you are initializing BertModel from the checkpoint of a model trained on another task or with another architecture (e.g. initializing a BertForSequenceClassification model from a BertForPreTraining model).\n",
      "- This IS NOT expected if you are initializing BertModel from the checkpoint of a model that you expect to be exactly identical (initializing a BertForSequenceClassification model from a BertForSequenceClassification model).\n"
     ]
    }
   ],
   "source": [
    "bert = BertModel.from_pretrained(pre_trained_model)\n",
    "bert = bert.to(device)\n",
    "bert = bert.eval()"
   ]
  },
  {
   "cell_type": "code",
   "execution_count": 18,
   "id": "ad93e19f",
   "metadata": {},
   "outputs": [],
   "source": [
    "class TweetDataset(Dataset):\n",
    "\n",
    "    def __init__(self, text):\n",
    "        self.text = text\n",
    "\n",
    "    def __len__(self):\n",
    "        return 1\n",
    "    \n",
    "    def __getitem__(self, i):\n",
    "\n",
    "        encoding = get_encoding(self.text, MAX_TOKEN_LENGTH, truncation=True)\n",
    "        \n",
    "        return {\n",
    "            'input_ids': encoding['input_ids'].flatten(),\n",
    "            'attention_mask': encoding['attention_mask'].flatten()\n",
    "        }"
   ]
  },
  {
   "cell_type": "code",
   "execution_count": 19,
   "id": "57b08368",
   "metadata": {},
   "outputs": [],
   "source": [
    "def encode_tweet(text):\n",
    "    output = None\n",
    "    with torch.no_grad():\n",
    "        dl = DataLoader(TweetDataset(text), batch_size=1, shuffle=False)\n",
    "        encoding = next(iter(dl))\n",
    "        input_ids = encoding['input_ids'].to(device)\n",
    "        attention_mask = encoding['attention_mask'].to(device)\n",
    "        output = bert(input_ids=input_ids, attention_mask=attention_mask)[\"pooler_output\"]\n",
    "        output = output[0].to('cpu').numpy()\n",
    "    return output\n",
    "    "
   ]
  },
  {
   "cell_type": "code",
   "execution_count": 20,
   "id": "588f13c3",
   "metadata": {},
   "outputs": [],
   "source": [
    "def encode_profile(profile):\n",
    "    encoded_tweets = []\n",
    "    for tweet in profile:\n",
    "        encoded_tweets.append(encode_tweet(tweet))\n",
    "\n",
    "    encoded_tweets = np.array(encoded_tweets, dtype=np.float64)\n",
    "    return encoded_tweets"
   ]
  },
  {
   "cell_type": "code",
   "execution_count": 21,
   "id": "fd172859",
   "metadata": {},
   "outputs": [
    {
     "data": {
      "application/vnd.jupyter.widget-view+json": {
       "model_id": "fe818d1c5ce44468a70b332a142c2e60",
       "version_major": 2,
       "version_minor": 0
      },
      "text/plain": [
       "Encoding Profiles:   0%|          | 0/180 [00:00<?, ?it/s]"
      ]
     },
     "metadata": {},
     "output_type": "display_data"
    }
   ],
   "source": [
    "encoded_profiles_nolabel = {}\n",
    "for i in tqdm(range(len(X_NOLABEL)), desc='Encoding Profiles'):\n",
    "    encoded_profiles_nolabel[i] = encode_profile(X_NOLABEL[i])\n"
   ]
  },
  {
   "cell_type": "code",
   "execution_count": 22,
   "id": "ef6ec3a6",
   "metadata": {},
   "outputs": [
    {
     "data": {
      "text/plain": [
       "180"
      ]
     },
     "execution_count": 22,
     "metadata": {},
     "output_type": "execute_result"
    }
   ],
   "source": [
    "len(encoded_profiles_nolabel)"
   ]
  },
  {
   "cell_type": "code",
   "execution_count": 23,
   "id": "3ba53cfb",
   "metadata": {},
   "outputs": [
    {
     "data": {
      "text/plain": [
       "(200, 768)"
      ]
     },
     "execution_count": 23,
     "metadata": {},
     "output_type": "execute_result"
    }
   ],
   "source": [
    "encoded_profiles_nolabel[0].shape"
   ]
  },
  {
   "cell_type": "code",
   "execution_count": 24,
   "id": "31372f14",
   "metadata": {},
   "outputs": [],
   "source": [
    "output_filepath = os.path.join('data', 'profile_matrices_nolabel')"
   ]
  },
  {
   "cell_type": "code",
   "execution_count": 25,
   "id": "dfa178f7",
   "metadata": {},
   "outputs": [
    {
     "data": {
      "application/vnd.jupyter.widget-view+json": {
       "model_id": "7f3a479f1b6a4e1695f50e81b396210c",
       "version_major": 2,
       "version_minor": 0
      },
      "text/plain": [
       "Saving Profiles:   0%|          | 0/180 [00:00<?, ?it/s]"
      ]
     },
     "metadata": {},
     "output_type": "display_data"
    }
   ],
   "source": [
    "for i in tqdm(range(len(X_NOLABEL)), desc='Saving Profiles'):\n",
    "    np.save(os.path.join(output_filepath, str(i)), encoded_profiles_nolabel[i])\n"
   ]
  },
  {
   "cell_type": "code",
   "execution_count": 27,
   "id": "8a765a3a",
   "metadata": {},
   "outputs": [
    {
     "data": {
      "text/plain": [
       "<matplotlib.image.AxesImage at 0x169a914afd0>"
      ]
     },
     "execution_count": 27,
     "metadata": {},
     "output_type": "execute_result"
    },
    {
     "data": {
      "image/png": "[encoded data removed]",
      "text/plain": [
       "<Figure size 432x288 with 1 Axes>"
      ]
     },
     "metadata": {
      "needs_background": "light"
     },
     "output_type": "display_data"
    }
   ],
   "source": [
    "import matplotlib.pyplot as plt\n",
    "\n",
    "plt.imshow(encoded_profiles_nolabel[0]-encoded_profiles_nolabel[8])"
   ]
  },
  {
   "cell_type": "code",
   "execution_count": 28,
   "id": "35ebdee3",
   "metadata": {},
   "outputs": [
    {
     "data": {
      "text/plain": [
       "<matplotlib.image.AxesImage at 0x169a90ca1c0>"
      ]
     },
     "execution_count": 28,
     "metadata": {},
     "output_type": "execute_result"
    },
    {
     "data": {
      "image/png": "[encoded data removed]",
      "text/plain": [
       "<Figure size 432x288 with 1 Axes>"
      ]
     },
     "metadata": {
      "needs_background": "light"
     },
     "output_type": "display_data"
    }
   ],
   "source": [
    "plt.imshow(encoded_profiles_nolabel[80])"
   ]
  }
 ],
 "metadata": {
  "kernelspec": {
   "display_name": "Python 3 (ipykernel)",
   "language": "python",
   "name": "python3"
  },
  "language_info": {
   "codemirror_mode": {
    "name": "ipython",
    "version": 3
   },
   "file_extension": ".py",
   "mimetype": "text/x-python",
   "name": "python",
   "nbconvert_exporter": "python",
   "pygments_lexer": "ipython3",
   "version": "3.8.13"
  }
 },
 "nbformat": 4,
 "nbformat_minor": 5
}
