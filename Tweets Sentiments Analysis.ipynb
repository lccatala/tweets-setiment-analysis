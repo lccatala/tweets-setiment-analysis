{
 "cells": [
  {
   "cell_type": "markdown",
   "id": "c29ec7ae",
   "metadata": {},
   "source": [
    "# Tweets sentiment analysis"
   ]
  },
  {
   "cell_type": "markdown",
   "id": "07cd6d2d",
   "metadata": {},
   "source": [
    "### Importing the libraries"
   ]
  },
  {
   "cell_type": "code",
   "execution_count": 1,
   "id": "3fa811e4",
   "metadata": {},
   "outputs": [],
   "source": [
    "import os\n",
    "os.environ['CUDA_LAUNCH_BLOCKING'] = \"1\""
   ]
  },
  {
   "cell_type": "code",
   "execution_count": 2,
   "id": "3064a15f",
   "metadata": {},
   "outputs": [],
   "source": [
    "import torch\n",
    "import torch.nn as nn\n",
    "import torch.nn.functional as F\n",
    "from torch.nn import CrossEntropyLoss\n",
    "from torch.nn.utils import clip_grad_norm_ as clip_grad_norm\n",
    "from torch.utils.data import Dataset, DataLoader\n",
    "from torch.optim import AdamW\n",
    "\n",
    "from transformers import BertModel, BertTokenizer, get_linear_schedule_with_warmup\n",
    "\n",
    "import numpy as np\n",
    "from sklearn.model_selection import train_test_split\n",
    "\n",
    "#MANAGEMENT PURPOSES ONLY-\n",
    "from tqdm.notebook import tqdm\n",
    "import gc\n",
    "gc.collect()\n",
    "torch.cuda.empty_cache()"
   ]
  },
  {
   "cell_type": "code",
   "execution_count": 3,
   "id": "57ecf06b",
   "metadata": {},
   "outputs": [],
   "source": [
    "pre_trained_model = 'bert-base-cased'"
   ]
  },
  {
   "cell_type": "markdown",
   "id": "982f71e4",
   "metadata": {},
   "source": [
    "Set seed to ensure reproducibility"
   ]
  },
  {
   "cell_type": "code",
   "execution_count": 4,
   "id": "0f318ebb",
   "metadata": {},
   "outputs": [
    {
     "data": {
      "text/plain": [
       "<torch._C.Generator at 0x1cdc4767a90>"
      ]
     },
     "execution_count": 4,
     "metadata": {},
     "output_type": "execute_result"
    }
   ],
   "source": [
    "SEED = 32\n",
    "np.random.seed(SEED)\n",
    "torch.manual_seed(SEED)"
   ]
  },
  {
   "cell_type": "markdown",
   "id": "c7862770",
   "metadata": {},
   "source": [
    "Set CUDA if available"
   ]
  },
  {
   "cell_type": "code",
   "execution_count": 5,
   "id": "ce217129",
   "metadata": {},
   "outputs": [
    {
     "name": "stdout",
     "output_type": "stream",
     "text": [
      "cuda\n",
      "11.3\n"
     ]
    }
   ],
   "source": [
    "device = torch.device('cuda' if torch.cuda.is_available() else 'cpu')\n",
    "print(device)\n",
    "print(torch.version.cuda) "
   ]
  },
  {
   "cell_type": "markdown",
   "id": "7591d49b",
   "metadata": {},
   "source": [
    "### Load processed dataset"
   ]
  },
  {
   "cell_type": "code",
   "execution_count": 6,
   "id": "7759dcc7",
   "metadata": {},
   "outputs": [],
   "source": [
    "X = np.load('./data/X.npy', allow_pickle=True)\n",
    "y = np.load('./data/y.npy')"
   ]
  },
  {
   "cell_type": "code",
   "execution_count": 7,
   "id": "ef879f6f",
   "metadata": {},
   "outputs": [
    {
     "data": {
      "text/plain": [
       "(420, 200)"
      ]
     },
     "execution_count": 7,
     "metadata": {},
     "output_type": "execute_result"
    }
   ],
   "source": [
    "X.shape"
   ]
  },
  {
   "cell_type": "code",
   "execution_count": 8,
   "id": "eefbf9b9",
   "metadata": {},
   "outputs": [
    {
     "data": {
      "text/plain": [
       "\"#USER# I'll DM you my address.\""
      ]
     },
     "execution_count": 8,
     "metadata": {},
     "output_type": "execute_result"
    }
   ],
   "source": [
    "X[0][0]"
   ]
  },
  {
   "cell_type": "code",
   "execution_count": 9,
   "id": "e4c3a69a",
   "metadata": {},
   "outputs": [
    {
     "data": {
      "text/plain": [
       "1"
      ]
     },
     "execution_count": 9,
     "metadata": {},
     "output_type": "execute_result"
    }
   ],
   "source": [
    "y[0]"
   ]
  },
  {
   "cell_type": "markdown",
   "id": "0e47c595",
   "metadata": {},
   "source": [
    "### Define a tokenizer"
   ]
  },
  {
   "cell_type": "code",
   "execution_count": 10,
   "id": "1a22bb84",
   "metadata": {},
   "outputs": [],
   "source": [
    "tokenizer = BertTokenizer.from_pretrained(pre_trained_model, do_lower_case=False)"
   ]
  },
  {
   "cell_type": "code",
   "execution_count": 11,
   "id": "4663a828",
   "metadata": {},
   "outputs": [],
   "source": [
    "def get_encoding(text, max_length, truncation=True):\n",
    "    return tokenizer.encode_plus(\n",
    "            text, \n",
    "            max_length=max_length, \n",
    "            add_special_tokens=True,\n",
    "            return_token_type_ids=False, \n",
    "            padding='max_length', \n",
    "            truncation=truncation,\n",
    "            return_attention_mask=True, \n",
    "            return_tensors='pt')"
   ]
  },
  {
   "cell_type": "markdown",
   "id": "f05752e1",
   "metadata": {},
   "source": [
    "Lets see an example of tokenizing a tweet:"
   ]
  },
  {
   "cell_type": "code",
   "execution_count": 12,
   "id": "1dfc5b9e",
   "metadata": {},
   "outputs": [],
   "source": [
    "example_text = X[0][0]\n",
    "encoding = get_encoding(example_text, 32, truncation=False)"
   ]
  },
  {
   "cell_type": "code",
   "execution_count": 13,
   "id": "e09ac704",
   "metadata": {},
   "outputs": [
    {
     "data": {
      "text/plain": [
       "\"#USER# I'll DM you my address.\""
      ]
     },
     "execution_count": 13,
     "metadata": {},
     "output_type": "execute_result"
    }
   ],
   "source": [
    "example_text"
   ]
  },
  {
   "cell_type": "code",
   "execution_count": 14,
   "id": "1c8e6717",
   "metadata": {},
   "outputs": [
    {
     "name": "stdout",
     "output_type": "stream",
     "text": [
      "['[CLS]', '#', 'US', '##ER', '#', 'I', \"'\", 'll', 'D', '##M', 'you', 'my', 'address', '.', '[SEP]', '[PAD]', '[PAD]', '[PAD]', '[PAD]', '[PAD]', '[PAD]', '[PAD]', '[PAD]', '[PAD]', '[PAD]', '[PAD]', '[PAD]', '[PAD]', '[PAD]', '[PAD]', '[PAD]', '[PAD]']\n"
     ]
    }
   ],
   "source": [
    "print(tokenizer.convert_ids_to_tokens(encoding['input_ids'][0]))"
   ]
  },
  {
   "cell_type": "code",
   "execution_count": 15,
   "id": "1bbfabdc",
   "metadata": {},
   "outputs": [
    {
     "data": {
      "application/vnd.jupyter.widget-view+json": {
       "model_id": "1976665a8eb045558521aceac853f9d7",
       "version_major": 2,
       "version_minor": 0
      },
      "text/plain": [
       "Profiles:   0%|          | 0/420 [00:00<?, ?it/s]"
      ]
     },
     "metadata": {},
     "output_type": "display_data"
    }
   ],
   "source": [
    "# Length of the heading, body and space separator\n",
    "token_lengths = {}\n",
    "max_value = -1\n",
    "for user in tqdm(range(X.shape[0]), desc='Profiles'):\n",
    "    for tweet in range(X.shape[1]):\n",
    "        text = X[user][tweet]\n",
    "        l = len(tokenizer.encode(text, max_length=280, truncation=True))\n",
    "        if l not in token_lengths:\n",
    "            token_lengths[l] = 0\n",
    "        token_lengths[l] += 1\n",
    "        max_value = max(max_value, token_lengths[l])"
   ]
  },
  {
   "cell_type": "code",
   "execution_count": 16,
   "id": "0cb800f9",
   "metadata": {},
   "outputs": [],
   "source": [
    "# Normalize the counts\n",
    "for key in token_lengths:\n",
    "    token_lengths[key] = token_lengths[key] / max_value"
   ]
  },
  {
   "cell_type": "code",
   "execution_count": 17,
   "id": "79744c48",
   "metadata": {},
   "outputs": [
    {
     "data": {
      "image/png": "[encoded data removed]",
      "text/plain": [
       "<Figure size 432x288 with 1 Axes>"
      ]
     },
     "metadata": {
      "needs_background": "light"
     },
     "output_type": "display_data"
    }
   ],
   "source": [
    "import matplotlib.pyplot as plt\n",
    "plot_threshold = 0.01\n",
    "plt.bar(list(token_lengths.keys()), token_lengths.values(), color='b')\n",
    "plt.xlim([min([key for key in token_lengths.keys() if token_lengths[key] > plot_threshold]), max([key for key in token_lengths.keys() if token_lengths[key] > plot_threshold])])\n",
    "plt.show()"
   ]
  },
  {
   "cell_type": "code",
   "execution_count": 18,
   "id": "25b2970b",
   "metadata": {},
   "outputs": [],
   "source": [
    "MAX_TOKEN_LENGTH = 100"
   ]
  },
  {
   "cell_type": "markdown",
   "id": "96831fea",
   "metadata": {},
   "source": [
    "### Define dataset class"
   ]
  },
  {
   "cell_type": "code",
   "execution_count": 31,
   "id": "93109363",
   "metadata": {},
   "outputs": [],
   "source": [
    "# Get distribution of classes for a given subset of the data\n",
    "def get_class_dist(data, classes):\n",
    "    dist = {}\n",
    "    \n",
    "    for c in classes:\n",
    "        dist[c] = 0\n",
    "    \n",
    "    for i in range(data.shape[0]):\n",
    "        dist[data[i]] += 1\n",
    "    \n",
    "    for key in dist:\n",
    "        print(f\"{key} = {(dist[key]/len(data))*100 : .2f} %\")"
   ]
  },
  {
   "cell_type": "code",
   "execution_count": 53,
   "id": "e0faf25a",
   "metadata": {},
   "outputs": [],
   "source": [
    "class TweetsDataset(Dataset):\n",
    "    def __init__(self, X, y):\n",
    "        self.X = X\n",
    "        self.y = y\n",
    "        \n",
    "    def __len__(self):\n",
    "        return len(self.X)\n",
    "    \n",
    "    def __getitem__(self, i):\n",
    "        text = self.X[i]\n",
    "        return {\n",
    "            'text': torch.from_numpy(np.asarray(text, dtype=np.object)),\n",
    "            'label': torch.tensor(y, dtype=torch.long)\n",
    "        }"
   ]
  },
  {
   "cell_type": "code",
   "execution_count": 41,
   "id": "8edd4ad6",
   "metadata": {},
   "outputs": [],
   "source": [
    "X_train, X_test, y_train, y_test = train_test_split(X, y, test_size=0.2, random_state=SEED)"
   ]
  },
  {
   "cell_type": "code",
   "execution_count": 42,
   "id": "58ae9151",
   "metadata": {},
   "outputs": [
    {
     "name": "stdout",
     "output_type": "stream",
     "text": [
      "0 =  50.30 %\n",
      "1 =  49.70 %\n"
     ]
    }
   ],
   "source": [
    "get_class_dist(y_train, {0: 'negative', 1: 'positive'})"
   ]
  },
  {
   "cell_type": "code",
   "execution_count": 43,
   "id": "d22011b4",
   "metadata": {},
   "outputs": [
    {
     "name": "stdout",
     "output_type": "stream",
     "text": [
      "0 =  48.81 %\n",
      "1 =  51.19 %\n"
     ]
    }
   ],
   "source": [
    "get_class_dist(y_test, {0: 'negative', 1: 'positive'})"
   ]
  },
  {
   "cell_type": "code",
   "execution_count": 21,
   "id": "baa271c1",
   "metadata": {},
   "outputs": [
    {
     "data": {
      "text/plain": [
       "(336, 200)"
      ]
     },
     "execution_count": 21,
     "metadata": {},
     "output_type": "execute_result"
    }
   ],
   "source": [
    "X_train.shape"
   ]
  },
  {
   "cell_type": "code",
   "execution_count": 22,
   "id": "b72ef04e",
   "metadata": {},
   "outputs": [
    {
     "data": {
      "text/plain": [
       "(336,)"
      ]
     },
     "execution_count": 22,
     "metadata": {},
     "output_type": "execute_result"
    }
   ],
   "source": [
    "y_train.shape"
   ]
  },
  {
   "cell_type": "code",
   "execution_count": 23,
   "id": "d6d04a4d",
   "metadata": {},
   "outputs": [
    {
     "data": {
      "text/plain": [
       "(84, 200)"
      ]
     },
     "execution_count": 23,
     "metadata": {},
     "output_type": "execute_result"
    }
   ],
   "source": [
    "X_test.shape"
   ]
  },
  {
   "cell_type": "code",
   "execution_count": 24,
   "id": "5f22f772",
   "metadata": {},
   "outputs": [
    {
     "data": {
      "text/plain": [
       "(84,)"
      ]
     },
     "execution_count": 24,
     "metadata": {},
     "output_type": "execute_result"
    }
   ],
   "source": [
    "y_test.shape"
   ]
  },
  {
   "cell_type": "markdown",
   "id": "c7912267",
   "metadata": {},
   "source": [
    "### Model"
   ]
  },
  {
   "cell_type": "code",
   "execution_count": 25,
   "id": "5ca627ab",
   "metadata": {},
   "outputs": [],
   "source": [
    "BATCH_SIZE = 16\n",
    "EPOCHS = 5\n",
    "LEARNING_RATE = 2e-5"
   ]
  },
  {
   "cell_type": "code",
   "execution_count": 51,
   "id": "d7729b55",
   "metadata": {},
   "outputs": [],
   "source": [
    "num_workers = 0\n",
    "\n",
    "train_data_loader = DataLoader(\n",
    "    TweetsDataset(X_train, y_train),\n",
    "    batch_size=BATCH_SIZE,\n",
    "    num_workers=num_workers,\n",
    "    shuffle=True\n",
    ")\n",
    "\n",
    "test_data_loader = DataLoader(\n",
    "    TweetsDataset(X_test, y_test),\n",
    "    batch_size=BATCH_SIZE,\n",
    "    num_workers=num_workers\n",
    ")"
   ]
  },
  {
   "cell_type": "code",
   "execution_count": 54,
   "id": "6a23f535",
   "metadata": {},
   "outputs": [
    {
     "ename": "TypeError",
     "evalue": "default_collate: batch must contain tensors, numpy arrays, numbers, dicts or lists; found object",
     "output_type": "error",
     "traceback": [
      "\u001b[1;31m---------------------------------------------------------------------------\u001b[0m",
      "\u001b[1;31mTypeError\u001b[0m                                 Traceback (most recent call last)",
      "File \u001b[1;32m~\\anaconda3\\envs\\BIOM\\lib\\site-packages\\torch\\utils\\data\\_utils\\collate.py:157\u001b[0m, in \u001b[0;36mdefault_collate\u001b[1;34m(batch)\u001b[0m\n\u001b[0;32m    <a href='file:///c%3A/Users/adria/anaconda3/envs/BIOM/lib/site-packages/torch/utils/data/_utils/collate.py?line=155'>156</a>\u001b[0m \u001b[39mtry\u001b[39;00m:\n\u001b[1;32m--> <a href='file:///c%3A/Users/adria/anaconda3/envs/BIOM/lib/site-packages/torch/utils/data/_utils/collate.py?line=156'>157</a>\u001b[0m     \u001b[39mreturn\u001b[39;00m elem_type({key: default_collate([d[key] \u001b[39mfor\u001b[39;00m d \u001b[39min\u001b[39;00m batch]) \u001b[39mfor\u001b[39;00m key \u001b[39min\u001b[39;00m elem})\n\u001b[0;32m    <a href='file:///c%3A/Users/adria/anaconda3/envs/BIOM/lib/site-packages/torch/utils/data/_utils/collate.py?line=157'>158</a>\u001b[0m \u001b[39mexcept\u001b[39;00m \u001b[39mTypeError\u001b[39;00m:\n\u001b[0;32m    <a href='file:///c%3A/Users/adria/anaconda3/envs/BIOM/lib/site-packages/torch/utils/data/_utils/collate.py?line=158'>159</a>\u001b[0m     \u001b[39m# The mapping type may not support `__init__(iterable)`.\u001b[39;00m\n",
      "File \u001b[1;32m~\\anaconda3\\envs\\BIOM\\lib\\site-packages\\torch\\utils\\data\\_utils\\collate.py:157\u001b[0m, in \u001b[0;36m<dictcomp>\u001b[1;34m(.0)\u001b[0m\n\u001b[0;32m    <a href='file:///c%3A/Users/adria/anaconda3/envs/BIOM/lib/site-packages/torch/utils/data/_utils/collate.py?line=155'>156</a>\u001b[0m \u001b[39mtry\u001b[39;00m:\n\u001b[1;32m--> <a href='file:///c%3A/Users/adria/anaconda3/envs/BIOM/lib/site-packages/torch/utils/data/_utils/collate.py?line=156'>157</a>\u001b[0m     \u001b[39mreturn\u001b[39;00m elem_type({key: default_collate([d[key] \u001b[39mfor\u001b[39;49;00m d \u001b[39min\u001b[39;49;00m batch]) \u001b[39mfor\u001b[39;00m key \u001b[39min\u001b[39;00m elem})\n\u001b[0;32m    <a href='file:///c%3A/Users/adria/anaconda3/envs/BIOM/lib/site-packages/torch/utils/data/_utils/collate.py?line=157'>158</a>\u001b[0m \u001b[39mexcept\u001b[39;00m \u001b[39mTypeError\u001b[39;00m:\n\u001b[0;32m    <a href='file:///c%3A/Users/adria/anaconda3/envs/BIOM/lib/site-packages/torch/utils/data/_utils/collate.py?line=158'>159</a>\u001b[0m     \u001b[39m# The mapping type may not support `__init__(iterable)`.\u001b[39;00m\n",
      "File \u001b[1;32m~\\anaconda3\\envs\\BIOM\\lib\\site-packages\\torch\\utils\\data\\_utils\\collate.py:144\u001b[0m, in \u001b[0;36mdefault_collate\u001b[1;34m(batch)\u001b[0m\n\u001b[0;32m    <a href='file:///c%3A/Users/adria/anaconda3/envs/BIOM/lib/site-packages/torch/utils/data/_utils/collate.py?line=142'>143</a>\u001b[0m \u001b[39mif\u001b[39;00m np_str_obj_array_pattern\u001b[39m.\u001b[39msearch(elem\u001b[39m.\u001b[39mdtype\u001b[39m.\u001b[39mstr) \u001b[39mis\u001b[39;00m \u001b[39mnot\u001b[39;00m \u001b[39mNone\u001b[39;00m:\n\u001b[1;32m--> <a href='file:///c%3A/Users/adria/anaconda3/envs/BIOM/lib/site-packages/torch/utils/data/_utils/collate.py?line=143'>144</a>\u001b[0m     \u001b[39mraise\u001b[39;00m \u001b[39mTypeError\u001b[39;00m(default_collate_err_msg_format\u001b[39m.\u001b[39mformat(elem\u001b[39m.\u001b[39mdtype))\n\u001b[0;32m    <a href='file:///c%3A/Users/adria/anaconda3/envs/BIOM/lib/site-packages/torch/utils/data/_utils/collate.py?line=145'>146</a>\u001b[0m \u001b[39mreturn\u001b[39;00m default_collate([torch\u001b[39m.\u001b[39mas_tensor(b) \u001b[39mfor\u001b[39;00m b \u001b[39min\u001b[39;00m batch])\n",
      "\u001b[1;31mTypeError\u001b[0m: default_collate: batch must contain tensors, numpy arrays, numbers, dicts or lists; found object",
      "\nDuring handling of the above exception, another exception occurred:\n",
      "\u001b[1;31mTypeError\u001b[0m                                 Traceback (most recent call last)",
      "\u001b[1;32mc:\\Users\\adria\\Desktop\\ALC\\Tweets Sentiments Analysis.ipynb Cell 39'\u001b[0m in \u001b[0;36m<cell line: 1>\u001b[1;34m()\u001b[0m\n\u001b[1;32m----> <a href='vscode-notebook-cell:/c%3A/Users/adria/Desktop/ALC/Tweets%20Sentiments%20Analysis.ipynb#ch0000039?line=0'>1</a>\u001b[0m sample \u001b[39m=\u001b[39m \u001b[39mnext\u001b[39;49m(\u001b[39miter\u001b[39;49m(train_data_loader))\n",
      "File \u001b[1;32m~\\anaconda3\\envs\\BIOM\\lib\\site-packages\\torch\\utils\\data\\dataloader.py:530\u001b[0m, in \u001b[0;36m_BaseDataLoaderIter.__next__\u001b[1;34m(self)\u001b[0m\n\u001b[0;32m    <a href='file:///c%3A/Users/adria/anaconda3/envs/BIOM/lib/site-packages/torch/utils/data/dataloader.py?line=527'>528</a>\u001b[0m \u001b[39mif\u001b[39;00m \u001b[39mself\u001b[39m\u001b[39m.\u001b[39m_sampler_iter \u001b[39mis\u001b[39;00m \u001b[39mNone\u001b[39;00m:\n\u001b[0;32m    <a href='file:///c%3A/Users/adria/anaconda3/envs/BIOM/lib/site-packages/torch/utils/data/dataloader.py?line=528'>529</a>\u001b[0m     \u001b[39mself\u001b[39m\u001b[39m.\u001b[39m_reset()\n\u001b[1;32m--> <a href='file:///c%3A/Users/adria/anaconda3/envs/BIOM/lib/site-packages/torch/utils/data/dataloader.py?line=529'>530</a>\u001b[0m data \u001b[39m=\u001b[39m \u001b[39mself\u001b[39;49m\u001b[39m.\u001b[39;49m_next_data()\n\u001b[0;32m    <a href='file:///c%3A/Users/adria/anaconda3/envs/BIOM/lib/site-packages/torch/utils/data/dataloader.py?line=530'>531</a>\u001b[0m \u001b[39mself\u001b[39m\u001b[39m.\u001b[39m_num_yielded \u001b[39m+\u001b[39m\u001b[39m=\u001b[39m \u001b[39m1\u001b[39m\n\u001b[0;32m    <a href='file:///c%3A/Users/adria/anaconda3/envs/BIOM/lib/site-packages/torch/utils/data/dataloader.py?line=531'>532</a>\u001b[0m \u001b[39mif\u001b[39;00m \u001b[39mself\u001b[39m\u001b[39m.\u001b[39m_dataset_kind \u001b[39m==\u001b[39m _DatasetKind\u001b[39m.\u001b[39mIterable \u001b[39mand\u001b[39;00m \\\n\u001b[0;32m    <a href='file:///c%3A/Users/adria/anaconda3/envs/BIOM/lib/site-packages/torch/utils/data/dataloader.py?line=532'>533</a>\u001b[0m         \u001b[39mself\u001b[39m\u001b[39m.\u001b[39m_IterableDataset_len_called \u001b[39mis\u001b[39;00m \u001b[39mnot\u001b[39;00m \u001b[39mNone\u001b[39;00m \u001b[39mand\u001b[39;00m \\\n\u001b[0;32m    <a href='file:///c%3A/Users/adria/anaconda3/envs/BIOM/lib/site-packages/torch/utils/data/dataloader.py?line=533'>534</a>\u001b[0m         \u001b[39mself\u001b[39m\u001b[39m.\u001b[39m_num_yielded \u001b[39m>\u001b[39m \u001b[39mself\u001b[39m\u001b[39m.\u001b[39m_IterableDataset_len_called:\n",
      "File \u001b[1;32m~\\anaconda3\\envs\\BIOM\\lib\\site-packages\\torch\\utils\\data\\dataloader.py:570\u001b[0m, in \u001b[0;36m_SingleProcessDataLoaderIter._next_data\u001b[1;34m(self)\u001b[0m\n\u001b[0;32m    <a href='file:///c%3A/Users/adria/anaconda3/envs/BIOM/lib/site-packages/torch/utils/data/dataloader.py?line=567'>568</a>\u001b[0m \u001b[39mdef\u001b[39;00m \u001b[39m_next_data\u001b[39m(\u001b[39mself\u001b[39m):\n\u001b[0;32m    <a href='file:///c%3A/Users/adria/anaconda3/envs/BIOM/lib/site-packages/torch/utils/data/dataloader.py?line=568'>569</a>\u001b[0m     index \u001b[39m=\u001b[39m \u001b[39mself\u001b[39m\u001b[39m.\u001b[39m_next_index()  \u001b[39m# may raise StopIteration\u001b[39;00m\n\u001b[1;32m--> <a href='file:///c%3A/Users/adria/anaconda3/envs/BIOM/lib/site-packages/torch/utils/data/dataloader.py?line=569'>570</a>\u001b[0m     data \u001b[39m=\u001b[39m \u001b[39mself\u001b[39;49m\u001b[39m.\u001b[39;49m_dataset_fetcher\u001b[39m.\u001b[39;49mfetch(index)  \u001b[39m# may raise StopIteration\u001b[39;00m\n\u001b[0;32m    <a href='file:///c%3A/Users/adria/anaconda3/envs/BIOM/lib/site-packages/torch/utils/data/dataloader.py?line=570'>571</a>\u001b[0m     \u001b[39mif\u001b[39;00m \u001b[39mself\u001b[39m\u001b[39m.\u001b[39m_pin_memory:\n\u001b[0;32m    <a href='file:///c%3A/Users/adria/anaconda3/envs/BIOM/lib/site-packages/torch/utils/data/dataloader.py?line=571'>572</a>\u001b[0m         data \u001b[39m=\u001b[39m _utils\u001b[39m.\u001b[39mpin_memory\u001b[39m.\u001b[39mpin_memory(data)\n",
      "File \u001b[1;32m~\\anaconda3\\envs\\BIOM\\lib\\site-packages\\torch\\utils\\data\\_utils\\fetch.py:52\u001b[0m, in \u001b[0;36m_MapDatasetFetcher.fetch\u001b[1;34m(self, possibly_batched_index)\u001b[0m\n\u001b[0;32m     <a href='file:///c%3A/Users/adria/anaconda3/envs/BIOM/lib/site-packages/torch/utils/data/_utils/fetch.py?line=49'>50</a>\u001b[0m \u001b[39melse\u001b[39;00m:\n\u001b[0;32m     <a href='file:///c%3A/Users/adria/anaconda3/envs/BIOM/lib/site-packages/torch/utils/data/_utils/fetch.py?line=50'>51</a>\u001b[0m     data \u001b[39m=\u001b[39m \u001b[39mself\u001b[39m\u001b[39m.\u001b[39mdataset[possibly_batched_index]\n\u001b[1;32m---> <a href='file:///c%3A/Users/adria/anaconda3/envs/BIOM/lib/site-packages/torch/utils/data/_utils/fetch.py?line=51'>52</a>\u001b[0m \u001b[39mreturn\u001b[39;00m \u001b[39mself\u001b[39;49m\u001b[39m.\u001b[39;49mcollate_fn(data)\n",
      "File \u001b[1;32m~\\anaconda3\\envs\\BIOM\\lib\\site-packages\\torch\\utils\\data\\_utils\\collate.py:160\u001b[0m, in \u001b[0;36mdefault_collate\u001b[1;34m(batch)\u001b[0m\n\u001b[0;32m    <a href='file:///c%3A/Users/adria/anaconda3/envs/BIOM/lib/site-packages/torch/utils/data/_utils/collate.py?line=156'>157</a>\u001b[0m         \u001b[39mreturn\u001b[39;00m elem_type({key: default_collate([d[key] \u001b[39mfor\u001b[39;00m d \u001b[39min\u001b[39;00m batch]) \u001b[39mfor\u001b[39;00m key \u001b[39min\u001b[39;00m elem})\n\u001b[0;32m    <a href='file:///c%3A/Users/adria/anaconda3/envs/BIOM/lib/site-packages/torch/utils/data/_utils/collate.py?line=157'>158</a>\u001b[0m     \u001b[39mexcept\u001b[39;00m \u001b[39mTypeError\u001b[39;00m:\n\u001b[0;32m    <a href='file:///c%3A/Users/adria/anaconda3/envs/BIOM/lib/site-packages/torch/utils/data/_utils/collate.py?line=158'>159</a>\u001b[0m         \u001b[39m# The mapping type may not support `__init__(iterable)`.\u001b[39;00m\n\u001b[1;32m--> <a href='file:///c%3A/Users/adria/anaconda3/envs/BIOM/lib/site-packages/torch/utils/data/_utils/collate.py?line=159'>160</a>\u001b[0m         \u001b[39mreturn\u001b[39;00m {key: default_collate([d[key] \u001b[39mfor\u001b[39;00m d \u001b[39min\u001b[39;00m batch]) \u001b[39mfor\u001b[39;00m key \u001b[39min\u001b[39;00m elem}\n\u001b[0;32m    <a href='file:///c%3A/Users/adria/anaconda3/envs/BIOM/lib/site-packages/torch/utils/data/_utils/collate.py?line=160'>161</a>\u001b[0m \u001b[39melif\u001b[39;00m \u001b[39misinstance\u001b[39m(elem, \u001b[39mtuple\u001b[39m) \u001b[39mand\u001b[39;00m \u001b[39mhasattr\u001b[39m(elem, \u001b[39m'\u001b[39m\u001b[39m_fields\u001b[39m\u001b[39m'\u001b[39m):  \u001b[39m# namedtuple\u001b[39;00m\n\u001b[0;32m    <a href='file:///c%3A/Users/adria/anaconda3/envs/BIOM/lib/site-packages/torch/utils/data/_utils/collate.py?line=161'>162</a>\u001b[0m     \u001b[39mreturn\u001b[39;00m elem_type(\u001b[39m*\u001b[39m(default_collate(samples) \u001b[39mfor\u001b[39;00m samples \u001b[39min\u001b[39;00m \u001b[39mzip\u001b[39m(\u001b[39m*\u001b[39mbatch)))\n",
      "File \u001b[1;32m~\\anaconda3\\envs\\BIOM\\lib\\site-packages\\torch\\utils\\data\\_utils\\collate.py:160\u001b[0m, in \u001b[0;36m<dictcomp>\u001b[1;34m(.0)\u001b[0m\n\u001b[0;32m    <a href='file:///c%3A/Users/adria/anaconda3/envs/BIOM/lib/site-packages/torch/utils/data/_utils/collate.py?line=156'>157</a>\u001b[0m         \u001b[39mreturn\u001b[39;00m elem_type({key: default_collate([d[key] \u001b[39mfor\u001b[39;00m d \u001b[39min\u001b[39;00m batch]) \u001b[39mfor\u001b[39;00m key \u001b[39min\u001b[39;00m elem})\n\u001b[0;32m    <a href='file:///c%3A/Users/adria/anaconda3/envs/BIOM/lib/site-packages/torch/utils/data/_utils/collate.py?line=157'>158</a>\u001b[0m     \u001b[39mexcept\u001b[39;00m \u001b[39mTypeError\u001b[39;00m:\n\u001b[0;32m    <a href='file:///c%3A/Users/adria/anaconda3/envs/BIOM/lib/site-packages/torch/utils/data/_utils/collate.py?line=158'>159</a>\u001b[0m         \u001b[39m# The mapping type may not support `__init__(iterable)`.\u001b[39;00m\n\u001b[1;32m--> <a href='file:///c%3A/Users/adria/anaconda3/envs/BIOM/lib/site-packages/torch/utils/data/_utils/collate.py?line=159'>160</a>\u001b[0m         \u001b[39mreturn\u001b[39;00m {key: default_collate([d[key] \u001b[39mfor\u001b[39;49;00m d \u001b[39min\u001b[39;49;00m batch]) \u001b[39mfor\u001b[39;00m key \u001b[39min\u001b[39;00m elem}\n\u001b[0;32m    <a href='file:///c%3A/Users/adria/anaconda3/envs/BIOM/lib/site-packages/torch/utils/data/_utils/collate.py?line=160'>161</a>\u001b[0m \u001b[39melif\u001b[39;00m \u001b[39misinstance\u001b[39m(elem, \u001b[39mtuple\u001b[39m) \u001b[39mand\u001b[39;00m \u001b[39mhasattr\u001b[39m(elem, \u001b[39m'\u001b[39m\u001b[39m_fields\u001b[39m\u001b[39m'\u001b[39m):  \u001b[39m# namedtuple\u001b[39;00m\n\u001b[0;32m    <a href='file:///c%3A/Users/adria/anaconda3/envs/BIOM/lib/site-packages/torch/utils/data/_utils/collate.py?line=161'>162</a>\u001b[0m     \u001b[39mreturn\u001b[39;00m elem_type(\u001b[39m*\u001b[39m(default_collate(samples) \u001b[39mfor\u001b[39;00m samples \u001b[39min\u001b[39;00m \u001b[39mzip\u001b[39m(\u001b[39m*\u001b[39mbatch)))\n",
      "File \u001b[1;32m~\\anaconda3\\envs\\BIOM\\lib\\site-packages\\torch\\utils\\data\\_utils\\collate.py:144\u001b[0m, in \u001b[0;36mdefault_collate\u001b[1;34m(batch)\u001b[0m\n\u001b[0;32m    <a href='file:///c%3A/Users/adria/anaconda3/envs/BIOM/lib/site-packages/torch/utils/data/_utils/collate.py?line=140'>141</a>\u001b[0m \u001b[39mif\u001b[39;00m elem_type\u001b[39m.\u001b[39m\u001b[39m__name__\u001b[39m \u001b[39m==\u001b[39m \u001b[39m'\u001b[39m\u001b[39mndarray\u001b[39m\u001b[39m'\u001b[39m \u001b[39mor\u001b[39;00m elem_type\u001b[39m.\u001b[39m\u001b[39m__name__\u001b[39m \u001b[39m==\u001b[39m \u001b[39m'\u001b[39m\u001b[39mmemmap\u001b[39m\u001b[39m'\u001b[39m:\n\u001b[0;32m    <a href='file:///c%3A/Users/adria/anaconda3/envs/BIOM/lib/site-packages/torch/utils/data/_utils/collate.py?line=141'>142</a>\u001b[0m     \u001b[39m# array of string classes and object\u001b[39;00m\n\u001b[0;32m    <a href='file:///c%3A/Users/adria/anaconda3/envs/BIOM/lib/site-packages/torch/utils/data/_utils/collate.py?line=142'>143</a>\u001b[0m     \u001b[39mif\u001b[39;00m np_str_obj_array_pattern\u001b[39m.\u001b[39msearch(elem\u001b[39m.\u001b[39mdtype\u001b[39m.\u001b[39mstr) \u001b[39mis\u001b[39;00m \u001b[39mnot\u001b[39;00m \u001b[39mNone\u001b[39;00m:\n\u001b[1;32m--> <a href='file:///c%3A/Users/adria/anaconda3/envs/BIOM/lib/site-packages/torch/utils/data/_utils/collate.py?line=143'>144</a>\u001b[0m         \u001b[39mraise\u001b[39;00m \u001b[39mTypeError\u001b[39;00m(default_collate_err_msg_format\u001b[39m.\u001b[39mformat(elem\u001b[39m.\u001b[39mdtype))\n\u001b[0;32m    <a href='file:///c%3A/Users/adria/anaconda3/envs/BIOM/lib/site-packages/torch/utils/data/_utils/collate.py?line=145'>146</a>\u001b[0m     \u001b[39mreturn\u001b[39;00m default_collate([torch\u001b[39m.\u001b[39mas_tensor(b) \u001b[39mfor\u001b[39;00m b \u001b[39min\u001b[39;00m batch])\n\u001b[0;32m    <a href='file:///c%3A/Users/adria/anaconda3/envs/BIOM/lib/site-packages/torch/utils/data/_utils/collate.py?line=146'>147</a>\u001b[0m \u001b[39melif\u001b[39;00m elem\u001b[39m.\u001b[39mshape \u001b[39m==\u001b[39m ():  \u001b[39m# scalars\u001b[39;00m\n",
      "\u001b[1;31mTypeError\u001b[0m: default_collate: batch must contain tensors, numpy arrays, numbers, dicts or lists; found object"
     ]
    }
   ],
   "source": [
    "sample = next(iter(train_data_loader))"
   ]
  },
  {
   "cell_type": "code",
   "execution_count": null,
   "id": "a0b7e65b",
   "metadata": {},
   "outputs": [],
   "source": [
    "sample.keys()\n",
    "print(len(sample['text']))   \n",
    "print(sample['label'])    "
   ]
  }
 ],
 "metadata": {
  "kernelspec": {
   "display_name": "Python 3 (ipykernel)",
   "language": "python",
   "name": "python3"
  },
  "language_info": {
   "codemirror_mode": {
    "name": "ipython",
    "version": 3
   },
   "file_extension": ".py",
   "mimetype": "text/x-python",
   "name": "python",
   "nbconvert_exporter": "python",
   "pygments_lexer": "ipython3",
   "version": "3.8.13"
  }
 },
 "nbformat": 4,
 "nbformat_minor": 5
}
