{
 "cells": [
  {
   "cell_type": "code",
   "execution_count": 1,
   "id": "81d13fff",
   "metadata": {},
   "outputs": [],
   "source": [
    "import numpy as np\n",
    "import os\n",
    "from bs4 import BeautifulSoup\n",
    "from sklearn.model_selection import train_test_split"
   ]
  },
  {
   "cell_type": "code",
   "execution_count": 2,
   "id": "91913ed4",
   "metadata": {},
   "outputs": [],
   "source": [
    "# Read labels\n",
    "data_filepath = 'data/raw'\n",
    "labels = dict()\n",
    "with open(os.path.join(data_filepath, 'Y', 'truth.txt')) as f:\n",
    "    for line in f.readlines():\n",
    "        user_id, label = tuple(line.split(':::'))\n",
    "        labels[user_id] = label.strip()"
   ]
  },
  {
   "cell_type": "code",
   "execution_count": 3,
   "id": "2c47120c",
   "metadata": {},
   "outputs": [
    {
     "data": {
      "text/plain": [
       "420"
      ]
     },
     "execution_count": 3,
     "metadata": {},
     "output_type": "execute_result"
    }
   ],
   "source": [
    "len(labels)"
   ]
  },
  {
   "cell_type": "code",
   "execution_count": 4,
   "id": "c6f14b8c",
   "metadata": {},
   "outputs": [],
   "source": [
    "tweets = dict()\n",
    "xml_filenames = [x[2] for x in os.walk(os.path.join(data_filepath, 'X'))][0]\n",
    "for filename in xml_filenames: # filename is user id\n",
    "    user_id = filename.split('.')[0]\n",
    "    tweets[user_id] = []\n",
    "    with open(os.path.join(data_filepath, 'X', filename), encoding='utf-8') as f:\n",
    "        content = f.read()\n",
    "        bs_data = BeautifulSoup(content, 'xml')\n",
    "        documents = [x.getText() for x in bs_data.find_all('document')]\n",
    "        tweets[user_id].extend(documents)"
   ]
  },
  {
   "cell_type": "code",
   "execution_count": 5,
   "id": "3d50483f",
   "metadata": {},
   "outputs": [],
   "source": [
    "for user_id in tweets:\n",
    "    tweets[user_id] = ' . '.join(tweets[user_id])\n",
    "    tweets[user_id] = tweets[user_id].replace('\\n', ' ')\n",
    "    tweets[user_id] = tweets[user_id].replace('\\t', ' ')"
   ]
  },
  {
   "cell_type": "code",
   "execution_count": 6,
   "id": "037d592e",
   "metadata": {},
   "outputs": [
    {
     "data": {
      "text/plain": [
       "420"
      ]
     },
     "execution_count": 6,
     "metadata": {},
     "output_type": "execute_result"
    }
   ],
   "source": [
    "len(tweets)"
   ]
  },
  {
   "cell_type": "code",
   "execution_count": 7,
   "id": "9de6af88",
   "metadata": {},
   "outputs": [],
   "source": [
    "user_indices = {}\n",
    "i = 0\n",
    "for key in tweets.keys():\n",
    "    user_indices[i] = key\n",
    "    i += 1"
   ]
  },
  {
   "cell_type": "code",
   "execution_count": 8,
   "id": "e6b64bfb",
   "metadata": {},
   "outputs": [],
   "source": [
    "X = [tweets[user_indices[i]] for i in range(len(tweets))]\n",
    "y = [1 if labels[user_indices[i]] == 'I' else 0 for i in range(len(labels))]"
   ]
  },
  {
   "cell_type": "code",
   "execution_count": 9,
   "id": "c1a89399",
   "metadata": {},
   "outputs": [],
   "source": [
    "X = np.asarray(X, dtype=object)\n",
    "y = np.asarray(y, dtype=int)"
   ]
  },
  {
   "cell_type": "code",
   "execution_count": 10,
   "id": "394f4128",
   "metadata": {},
   "outputs": [
    {
     "data": {
      "text/plain": [
       "(420,)"
      ]
     },
     "execution_count": 10,
     "metadata": {},
     "output_type": "execute_result"
    }
   ],
   "source": [
    "X.shape"
   ]
  },
  {
   "cell_type": "code",
   "execution_count": 11,
   "id": "2e8ef991",
   "metadata": {},
   "outputs": [
    {
     "data": {
      "text/plain": [
       "(420,)"
      ]
     },
     "execution_count": 11,
     "metadata": {},
     "output_type": "execute_result"
    }
   ],
   "source": [
    "y.shape"
   ]
  },
  {
   "cell_type": "code",
   "execution_count": 12,
   "id": "ce3de3f0",
   "metadata": {},
   "outputs": [
    {
     "data": {
      "text/plain": [
       "'Midland Schools Not Putting Litter Boxes In Bathrooms For Furries, District Says |\\xa0#HASHTAG# #URL# . MBB Preview: Arkansas hosts Texas A&amp;M |\\xa0#HASHTAG# #URL# . ‘Spread Cream Cheese, Not Hate’: University of Florida Students Give Away Free Bagels to Fight Antisemitism | #HASHTAG# |\\xa0#HASHTAG# #URL# . From summer student to chief administrative officer, Deborah Martin-Downs completes the circle | #HASHTAG# |\\xa0#HASHTAG# #URL# . Bucks hold off Kings, 133-127 | Basketball |\\xa0#HASHTAG# #URL# . #HASHTAG# | How will the COVID-19 pandemic end? WHO’s answer might surprise\\xa0you #URL# . Two Ulster County child molesters sentenced to prison |\\xa0#HASHTAG# #URL# . #HASHTAG# | How QAnon sex trafficking conspiracy theories forced a butterfly sanctuary to shut\\xa0down #URL# . More than 1,000 students were sexually abused at this university. An ex-NFL player wants their stories to be heard | Crime | #HASHTAG#. |\\xa0#HASHTAG# #URL# . Supporters of Laurentian green space continue to fight possible sale of lands | #HASHTAG# |\\xa0#HASHTAG# #URL# . #HASHTAG# | #HASHTAG# | 3 reasons you should buy a Chromebook tablet instead of\\xa0Android #URL# . #HASHTAG# | How to Survive the Most Dangerous Place on Earth: Your\\xa0House #URL# . ‘Squad,’ Dems mum on police funding as crime continues to rise in major cities | #HASHTAG#. |\\xa0#HASHTAG# #URL# . Over 500 Madison City students tested positive for COVID-19 last week | #HASHTAG# | #HASHTAG#. | #HASHTAG# |\\xa0#HASHTAG# #URL# . Why These Women Met In an Empty Field to Release a ‘Primal’ Mom Scream – SheKnows |\\xa0#HASHTAG# #URL# . US professor discusses parenting arrangements and children’s emotional security |\\xa0#HASHTAG# #URL# . #HASHTAG# | #HASHTAG# | N.B.A.’s Warriors Disavow Part-Owner’s Uyghur\\xa0Comments #URL# . #HASHTAG# | ‘My husband is a paedophile, now I need to raise thousands to divorce\\xa0him’ #URL# . #HASHTAG# | #HASHTAG# | Was Dorothy Day Too Left-Wing to Be a Catholic\\xa0Saint? #URL# . Kingsport, Bristol TN school districts continue to battle COVID-19 cases, staff shortages | WJHL | #HASHTAG# | #HASHTAG#. | #HASHTAG# |\\xa0#HASHTAG# #URL# . #HASHTAG# | Five missing teenage girls found, 30 sex offenders\\xa0arrested #URL# . Public Schools Branch staff asked to work in long-term care homes on P.E.I. | #HASHTAG# | #HASHTAG# |\\xa0#HASHTAG# #URL# . #HASHTAG# | #HASHTAG# | Day we tested sex aids at Good\\xa0Housekeeping #URL# . Money Matters: Strengthening your finances and marriage at the same time | News, Sports, Jobs | #HASHTAG# |\\xa0#HASHTAG# #URL# . Social Media Companies Hit With Lawsuit for Teen Suicide | #HASHTAG# |\\xa0#HASHTAG# #URL# . Okehampton teacher plans her climate mission for town | #HASHTAG# | #HASHTAG# |\\xa0#HASHTAG# #URL# . #HASHTAG# | #HASHTAG# | Chrissy Teigen and John Legend put their New York home on the market |\\xa0Entertainment #URL# . Kilgore College names new police chief | Local News | #HASHTAG#. |\\xa0#HASHTAG# #URL# . Bangor High School students continue to ‘mentor’ younger kids | #HASHTAG# | #HASHTAG#. | #HASHTAG# |\\xa0#HASHTAG# #URL# . Myanmar’s military took control of the country one year ago, but it never expected resistance like this | #HASHTAG# |\\xa0#HASHTAG# #URL# . #HASHTAG# | Independent Study Student Brings BB Gun to BHS Campus — Berkeley High\\xa0Jacket #URL# . Former teacher facing rape trial | Criminal Law | #HASHTAG# | #HASHTAG# |\\xa0#HASHTAG# #URL# . #HASHTAG# | Central Florida Boy Scouts executive accused of child molestation, deputies\\xa0say #URL# . #HASHTAG# | Save Our Children, San Diego Metro\\xa0Magazine #URL# . Here’s how many COVID-19 cases Lancaster County schools reported this week | Local News | #HASHTAG# | #HASHTAG#. | #HASHTAG# |\\xa0#HASHTAG# #URL# . #HASHTAG# | How to Know If Your Child or Loved One Is at Risk of Being\\xa0Trafficked #URL# . Farmington Board of Education, community members address 21 Day Equity Challenge |\\xa0#HASHTAG# #URL# . #HASHTAG# | Sex workers, victims’ advocates at odds over Winnipeg’s bid to remove licences for sexual service\\xa0agencies #URL# . Murdered teacher Ashling Murphy tried to fight off her attacker with set of KEYS, police believe | #HASHTAG# |\\xa0#HASHTAG# #URL# . Nature or nurture? Twin study sheds light on the development of callous-unemotional traits in adolescents |\\xa0#HASHTAG# #URL# . #HASHTAG# | ‘We go and confront them’: YouTuber finds child\\xa0predators #URL# . #HASHTAG# | Italian police arrest alleged Black Axe Nigerian mafia members over trafficking | Global\\xa0development #URL# . #HASHTAG# | Building Apps Help Make the Office Return a Touch-Free\\xa0Experience #URL# . Gun control advocates express disappointment with Biden |\\xa0#HASHTAG# #URL# . Springfield Board of Education to make student mask mandate decision on Friday |\\xa0#HASHTAG# #URL# . Staff member injured, several students in custody after large fight at Meadowdale High School | #HASHTAG# |\\xa0#HASHTAG# #URL# . Let’s go back to some hands-off parenting, please |\\xa0#HASHTAG# #URL# . Why Shaq Says He Doesn’t ‘Feel Sorry’ For Kanye West Amid Co-Parenting Woes With Kim Kardashian |\\xa0#HASHTAG# #URL# . Oshkosh North High School opens sensory room | #HASHTAG# |\\xa0#HASHTAG# #URL# . 2 found dead in home; no foul play suspected | Crime and Courts | #HASHTAG#. |\\xa0#HASHTAG# #URL# . Dallas Mavs Join The NBA To Honor The Life, Legacy Of Dr. Martin Luther King, Jr. |\\xa0#HASHTAG# #URL# . Animated film, ‘Ron’s Gone Wrong’ looks at the effects of technology and social media – Massachusetts Daily Collegian | #HASHTAG# |\\xa0#HASHTAG# #URL# . #HASHTAG# | #HASHTAG# | In the pandemic’s wake, suicidal ideation among teens is\\xa0up #URL# . Florida school district banning excused absences for COVID-19 concerns | #HASHTAG# | #HASHTAG#. | #HASHTAG# |\\xa0#HASHTAG# #URL# . Sarawak to set up one-stop centre to cater to the needs of disabled community | #HASHTAG# |\\xa0#HASHTAG# #URL# . #HASHTAG# | Awareness about human trafficking ahead of the Super\\xa0Bowl #URL# . Parents of Two Oxford High School Students Sue District Over Shooting |\\xa0#HASHTAG# #URL# . #HASHTAG# | Convicted Child Molester From Indiana Receives 10-20 Year Sentence In State Prison – CBS\\xa0Pittsburgh #URL# . #HASHTAG# | Skoda the latest brand to ditch safety tech amid semiconductor\\xa0shortage #URL# . Carson City School District to limit transportation services Monday and Tuesday | #HASHTAG# |\\xa0#HASHTAG# #URL# . #HASHTAG# | #HASHTAG# | Winter Olympians Feel Threat From Climate Change –\\xa0NECN #URL# . School lunches in a COVID era: ‘I never thought I’d hear the kids say Oh, not pizza again’ | Education | #HASHTAG# | #HASHTAG#. | #HASHTAG# |\\xa0#HASHTAG# #URL# . Yvette Uwimbabaz is New Hanover County Schools’ Student of the Week | #HASHTAG# |\\xa0#HASHTAG# #URL# . #HASHTAG# | #HASHTAG# | This Mom Is Helping Parents Discover Pro-America Content for\\xa0Kids #URL# . #HASHTAG# | ‘It’s always been here’: Sex trafficking in Montana an entrenched crisis | State &amp;\\xa0Regional #URL# . Andre Lambe, Adrian Roach victorious at Fight Night Champion – The Royal Gazette | #HASHTAG# |\\xa0#HASHTAG# #URL# . Parents turn to school choice after remote-learning disasters | #HASHTAG# | #HASHTAG# |\\xa0#HASHTAG# #URL# . #HASHTAG# | 11 Books, Movies, Podcasts, Songs (and More) Inspiring the Fight Against Gender-Based\\xa0Violence #URL# . Gun Control Advocates Hope for Progress, While Opposition Remains |\\xa0#HASHTAG# #URL# . Lifestyle News | Parenting Interventions Support Psychosocial Adjustment of Kids in Foster, Adoptive Families: Study |\\xa0#HASHTAG# #URL# . COVID-19 surge surprises in North Andover schools | News | #HASHTAG# | #HASHTAG#. | #HASHTAG# |\\xa0#HASHTAG# #URL# . #HASHTAG# | Cleveland Rape Crisis Center receives $1.3 million grant, plans to work with LGBT youth, victims of sexual\\xa0assault #URL# . #HASHTAG# | #HASHTAG# | Calling Civilian Casualties a ‘Failure,’ Democrats Urge Biden to Do\\xa0Better #URL# . #HASHTAG# | Houston-Area Woman Charged with Obstruction of the Enforcement of the Federal Criminal Sex Trafficking Statute – L’Observateur #URL# . #HASHTAG# | Camera-caught school zone speeders might face $250 fine for each violation | Crime and\\xa0Courts #URL# . Auburn man’s roommate says Downs had gun at time of 1993 murder | #HASHTAG#. |\\xa0#HASHTAG# #URL# . #HASHTAG# | #HASHTAG# | Why Teen Mom’s Amber Portwood Walked Off the\\xa0Reunion #URL# . #HASHTAG# | Takeaways from Tallahassee — Celebrating Black\\xa0History #URL# . Odd News Roundup: South Africa dog hotel offers ‘six star’ canine luxury; Cuban children with disabilities pet jaguars and snakes for therapy | #HASHTAG# |\\xa0#HASHTAG# #URL# . #HASHTAG# | Men arrested after MPD, TBI conduct human trafficking operation, officials say – FOX13 News\\xa0Memphis #URL# . Josh Widdicombe asked Kate Middleton to be on his parenting podcast |\\xa0#HASHTAG# #URL# . #HASHTAG# | Coronavirus live updates and omicron variant\\xa0news #URL# . Chapel Hill-Carrboro schools seeing increase in substitute teachers, but still not enough, district says | #HASHTAG# | #HASHTAG# |\\xa0#HASHTAG# #URL# . Jilted Bengaluru man, 5 accomplices held for abducting his girlfriend’s brother |\\xa0#HASHTAG# #URL# . #HASHTAG# | #HASHTAG# | Governor Hochul Urges New Yorkers to Prepare for Dangerous Cold Temperatures Through Saturday\\xa0Morning #URL# . Prince William Made a Relatable Parenting Confession About Prince George’s Screen Time |\\xa0#HASHTAG# #URL# . EU announces €175 million in EU humanitarian aid for West and Central Africa – Nigeria |\\xa0#HASHTAG# #URL# . SCS Adolescent Parenting Program helps expecting and teen moms – FOX13 News Memphis |\\xa0#HASHTAG# #URL# . Paedophile suspected of abducting Madeleine McCann had worked at apartments where she vanished, documentary claims |\\xa0#HASHTAG# #URL# . New NC House committee looks to reinvent education. Should the State Superintendent lead the State Board of Ed? |\\xa0#HASHTAG# #URL# . ‘It’s Just Stressful’: Students Feel the Weight of Pandemic Uncertainty | #HASHTAG# | #HASHTAG#. | #HASHTAG# |\\xa0#HASHTAG# #URL# . Many “Parent” Groups Opposing Masks and CRT Are Actually Driven by Dark Money |\\xa0#HASHTAG# #URL# . #HASHTAG# | #HASHTAG# | Tax season has begun: Everything to know before you file your 2021 tax\\xa0return #URL# . Alabama: New arrest in connection with Enterprise 9th-grader murder | #HASHTAG# | #HASHTAG# |\\xa0#HASHTAG# #URL# . Types of parenting and their impact on children today |\\xa0#HASHTAG# #URL# . #HASHTAG# | #HASHTAG# | October is National Bullying Prevention Awareness Month, Jehovah’s Witnesses offer online\\xa0resources #URL# . Opinion split on legislation that would allow 16- and 17-year-olds to vote in local elections | Legislature | New Mexico Legislative Session | #HASHTAG# |\\xa0#HASHTAG# #URL# . School closures due to rise in COVID cases affects mental health of SC kids, experts say | Health | #HASHTAG# | #HASHTAG#. | #HASHTAG# |\\xa0#HASHTAG# #URL# . Multiple New York school districts go remote after online threats |\\xa0#HASHTAG# #URL# . #HASHTAG# | Kingston man, 30, gets 18 years in prison for repeated sexual acts with two boys – Daily\\xa0Freeman #URL# . Tamil Nadu girl’s suicide: Stalin hits out at BJP, asks DMK cadre to fight ‘sectarian’ politics | Latest News India | #HASHTAG# |\\xa0#HASHTAG# #URL# . SUNY Oneonta student dies from cold exposure; found miles from campus, police say | #HASHTAG#. |\\xa0#HASHTAG# #URL# . #HASHTAG# | #HASHTAG# | People with anorexia and bulimia ‘bombarded with dangerous dieting adverts on\\xa0Facebook’ #URL# . Dr. Cox resigns from Duncan education board | Community |\\xa0#HASHTAG# #URL# . #HASHTAG# | Man sends letter from jail claiming to be ‘serial pedophile’ with victims in three\\xa0states #URL# . RLRS Board Update – Lewiston Sun Journal |\\xa0#HASHTAG# #URL# . Know how Kate Middleton Gets Her hildren to behave |\\xa0#HASHTAG# #URL# . More officers were charged in fatal police shootings in 2021. Not everyone sees progress. |\\xa0#HASHTAG# #URL# . When Cancer Comes Calling, Normal Cells Fight Back. But How? | #HASHTAG# |\\xa0#HASHTAG# #URL# . #HASHTAG# | What parents need to know about kids and\\xa0COVID-19 #URL# . Hollingshead flashing potential early in her career at Georgia |\\xa0#HASHTAG# #URL# . #HASHTAG# | Tioni Theus May Have Been Human Trafficking Victim, DA Says – NBC Los\\xa0Angeles #URL# . #HASHTAG# | La Crosse’s Billings continues to push legislation to protect sex-trafficked minors – WIZM 92.3FM\\xa01410AM #URL# . Bulldog Virtual Academy Update Offered to Covington School Board |\\xa0#HASHTAG# #URL# . #HASHTAG# | Ending human trafficking in Nebraska – Nebraska City News\\xa0Press #URL# . ‘I can be a softie sometimes, but he knows not to push me too far’ |\\xa0#HASHTAG# #URL# . This Texas Ranger was celebrated for catching serial killers. Did he also ensnare innocent people? | #HASHTAG#. |\\xa0#HASHTAG# #URL# . #HASHTAG# | Richland Township man heads to trial, facing 320 sex-related charges |\\xa0News #URL# . #HASHTAG# | Community members in Fairfield speak out after council member correlates LGBTQ people with sex\\xa0trafficking #URL# . #HASHTAG# | As the new school year approaches in Australia, what are the COVID-19 risks for sending children back to the\\xa0classroom? #URL# . #HASHTAG# | Gun control advocates nervous as Supreme Court takes up first 2nd Amendment case in a\\xa0decade #URL# #URL# . KISD mother: “I’m asking for you to fight for our children” | Coronavirus | #HASHTAG# |\\xa0#HASHTAG# #URL# . Littleton Public Schools nix COVID-19 vaccine clinics after videos claim kids got shots without parental consent | #HASHTAG# | #HASHTAG#. | #HASHTAG# |\\xa0#HASHTAG# #URL# . These N.J. schools provide COVID vaccines, tests to anyone. Find a clinic here. | #HASHTAG# | #HASHTAG#. | #HASHTAG# |\\xa0#HASHTAG# #URL# . Monitoring COVID Numbers a High Priority For Mascoutah School District – Herald Publications | #HASHTAG# | #HASHTAG#. | #HASHTAG# |\\xa0#HASHTAG# #URL# . Khloé Kardashian And Tristan Thompson’s ‘Strained’ Co-Parenting Situation—We’re Devastated For True! |\\xa0#HASHTAG# #URL# . #HASHTAG# | Helpful Winter Driving Safety Tips from CT DOT +\\xa0More #URL# . Teach Your Children’s Well: Parenting Books 2022 |\\xa0#HASHTAG# #URL# . #HASHTAG# | Addressing the unprecedented behavioral-health challenges facing Generation\\xa0Z #URL# . Sunburn — The morning read of what’s hot in Florida politics — 1.26.22 |\\xa0#HASHTAG# #URL# . How to help families of West Valley City shooting victims | #HASHTAG# |\\xa0#HASHTAG# #URL# . Shelton 2022-23 school year to begin Sept. 6 |\\xa0#HASHTAG# #URL# . MLK’s words can be applied to today’s labor and voting rights fight | #HASHTAG# |\\xa0#HASHTAG# #URL# . #HASHTAG# | Spencer’s consultant joining city planning\\xa0board #URL# . 2 Philly-area dancers get to the pointe with the Trocks, a comic male ballet company performing at the Annenberg | #HASHTAG# | #HASHTAG# |\\xa0#HASHTAG# #URL# . “Systemwide Failure”: Gun Control Advocates Demand New Regulations After Michigan School Shooting |\\xa0#HASHTAG# #URL# . #HASHTAG# | ILA | One Week Into Session and Gun Bills Are On the Move In Santa\\xa0Fe! #URL# . Masks on agenda for 2 school boards; All 3 school boards will meet Monday | Education |\\xa0#HASHTAG# #URL# . Eight-year veteran of the Twinsburg school board due to vacancy |\\xa0#HASHTAG# #URL# . Mid-State Man Sentenced To 35 Years In Federal Prison For Child Sexual Exploitation Crimes | USAO-MDTN | #HASHTAG# | #HASHTAG# |\\xa0#HASHTAG# #URL# . Zoning panel clears way for second group home in Unity | #HASHTAG# |\\xa0#HASHTAG# #URL# . #HASHTAG# | #HASHTAG# | 9 ‘Screen Time’ Features Everyone Should Be\\xa0Using #URL# . NSW unveils its much-anticipated back-to-school plan as state records 34 COVID-19 deaths | #HASHTAG# | #HASHTAG#. | #HASHTAG# |\\xa0#HASHTAG# #URL# . School board meetings become verbal battle zones in COVID era – Orange County Register |\\xa0#HASHTAG# #URL# . Opinion: Non-Jewish ASU students need to do more to fight antisemitism | #HASHTAG# |\\xa0#HASHTAG# #URL# . What happened to Ashling Murphy? What we know about teacher’s murder in Tullamore, as Josef Puska, 31, charged | #HASHTAG# | #HASHTAG# |\\xa0#HASHTAG# #URL# . Park City School District won’t explain new policy prohibiting talk about vaccines |\\xa0#HASHTAG# #URL# . #HASHTAG# | Group raises awareness of trafficking problem ahead of World\\xa0Games #URL# . #HASHTAG# | UM Today | Screaming into the void? Us too. Coping tips for stressed-out families in the COVID-19\\xa0pandemic #URL# . American-Islamic Relations Org. Calls for Federal Hate Crime Probe of ‘N***** Lover,’ Fire at Tenn. Interracial Couple’s Home | #HASHTAG#. |\\xa0#HASHTAG# #URL# . #HASHTAG# | Florida Blue Foundation makes $3.8 million investment in mental well-being for children, families and\\xa0seniors #URL# . Pomona Unified schools to start voluntary coronavirus testing for students – Daily Bulletin | #HASHTAG# | #HASHTAG#. | #HASHTAG# |\\xa0#HASHTAG# #URL# . Emma Roberts and Garrett Hedlund split – but are dedicated to co-parenting their son |\\xa0#HASHTAG# #URL# . #HASHTAG# | #HASHTAG# | ‘I believe that forcing a child to wear a mask 7 hours a day is\\xa0torture’ #URL# . After being abducted by his babysitter, a Belgian boy, four, was discovered dead on a Dutch island. |\\xa0#HASHTAG# #URL# . Woodland Park school board approves memorandum of understanding with Merit Academy during special meeting | Pikes Peak Courier |\\xa0#HASHTAG# #URL# . How Virginia schools used COVID mask mandates to ‘thumb their noses’ at new Gov. Youngkin | #HASHTAG# | #HASHTAG#. | #HASHTAG# |\\xa0#HASHTAG# #URL# . #HASHTAG# | Officials say awareness, education are keys to battling human trafficking in Northwest Arkansas ⋆ 4State News MO AR KS\\xa0OK #URL# . #HASHTAG# | Be a champion for the underdogs: 12 tips for helping homeless pets, rescues and shelters |\\xa0Interests #URL# . HIV clinicians should ask gay men if they want to become fathers |\\xa0#HASHTAG# #URL# . Parent maces student after fight at Asheville High School | #HASHTAG# |\\xa0#HASHTAG# #URL# . Valley News – Educators call NH’s ‘teacher loyalty’ bill insulting, vague; proponents point to student ‘indoctrination’ | #HASHTAG# | #HASHTAG# |\\xa0#HASHTAG# #URL# . Why The Parents, Wards And Government Agencies Of These Two Southern States Should Be Especially Alert | #HASHTAG# | #HASHTAG# |\\xa0#HASHTAG# #URL# . #HASHTAG# | Human traffickers now recruit victims through virtual processes ―\\xa0NAPTIP #URL# . #HASHTAG# | Paediatrician shares important reminder to parents amid\\xa0pandemic #URL# . Henry County teacher arrested, accused of sexual misconduct with students | #HASHTAG# | #HASHTAG# |\\xa0#HASHTAG# #URL# . #HASHTAG# | #HASHTAG# | Terence Darrell Kelly pleads guilty to kidnapping four-year-old Cleo\\xa0Smith #URL# . #HASHTAG# | Latest COVID Surge Pushes Parents to Next-Level\\xa0Stress #URL# . Oppose the dangerous reopening of universities! Students and youth must take up a fight against the pandemic! | #HASHTAG# |\\xa0#HASHTAG# #URL# . #HASHTAG# | Without abortion, Black women and children can\\xa0thrive #URL# . #HASHTAG# | Okaloosa parents are sending Ubers to pick up kids from school. But drivers must\\xa0refuse #URL# . #HASHTAG# | Opleousas Man Acussed in a String of Robberies in\\xa0Acadiana #URL# . Parenting In Focus: Helping your child deal with stressful times |\\xa0#HASHTAG# #URL# . Plugged-In Parenting: Expert Advice and The Latest Wave of Devices for 2022 |\\xa0#HASHTAG# #URL# . Nick Clegg accused of turning a blind eye to online child abuse over ‘cynical’ Facebook decision | #HASHTAG# | #HASHTAG# |\\xa0#HASHTAG# #URL# . Murder of five-year-old girl sparks outrage in north Nigeria |\\xa0#HASHTAG# #URL# . Elizabeth Holmes found guilty on four out of 11 federal charges | Archive |\\xa0#HASHTAG# #URL# . Adams 14 School District to discuss future |\\xa0#HASHTAG# #URL# . #HASHTAG# | E’town Schools receives award for workplace safety |\\xa0Education #URL# . #HASHTAG# | #HASHTAG# | Study, Telecom News, ET\\xa0Telecom #URL# . COVID-19 cases force Kalamazoo-area district to switch some schools to remote learning | #HASHTAG# | #HASHTAG#. | #HASHTAG# |\\xa0#HASHTAG# #URL# . #HASHTAG# | Glasgow residents issued safety advice in event of power cut caused by forecast high\\xa0winds #URL# . As recall looms, school board members stake out their positions |\\xa0#HASHTAG# #URL# . Frassati Catholic High School unveils plans for new sports complex |\\xa0#HASHTAG# #URL# . New Braunfels man guilty of indecency | Community Alert |\\xa0#HASHTAG# #URL# . #HASHTAG# | Dekalb County Sheriff investigators arrest man for electronic solicitation of a\\xa0child #URL# . Parents and teachers plan a rally before school board meeting |\\xa0#HASHTAG# #URL# . #HASHTAG# | #HASHTAG# | Full text of NYPD Det. Jason Rivera’s widow’s\\xa0eulogy #URL# . CoxHealth seeks help from college, high school students amid COVID-19 surge | #HASHTAG# | #HASHTAG#. | #HASHTAG# |\\xa0#HASHTAG# #URL# . #HASHTAG# | #HASHTAG# | Jehovah’s Witnesses hope to help families with\\xa0bullying #URL# . Killeen ISD parents say district needs to do more to fight COVID cases | #HASHTAG# |\\xa0#HASHTAG# #URL# . Opinion: Teach Philosophy of Science in High School | #HASHTAG# |\\xa0#HASHTAG# #URL# . Roughly One-Third of Teens in Canada, US Think Holocaust is ‘Exaggerated or Fabricated’ | #HASHTAG# |\\xa0#HASHTAG# #URL# . UPDATE: Teacher left children home alone while she vacationed in Florida with boyfriend, arrest warrant says | | #HASHTAG# | #HASHTAG# |\\xa0#HASHTAG# #URL# . COVID rate among public school-aged Cobb residents continues to increase based on January 28 report | #HASHTAG# | #HASHTAG#. | #HASHTAG# |\\xa0#HASHTAG# #URL# . County sees over 100 COVID deaths; school district reporting to change | News | #HASHTAG# | #HASHTAG#. | #HASHTAG# |\\xa0#HASHTAG# #URL# . Kyle and Sam’s motorcycling essentials, Nyoy and Matt’s creative parenting habits in ABS-CBN YouTube shows – Manila Bulletin |\\xa0#HASHTAG# #URL# . #HASHTAG# | City committee hears arguments for and against licensing sex\\xa0workers #URL# . Teachers of the year recognized by Opelika City Schools Board of Education | Local News |\\xa0#HASHTAG# #URL# . For second time, judge dismisses lawsuit arguing consumers entitled to costs tied to ComEd bribery case | Crime-and-courts | #HASHTAG#. |\\xa0#HASHTAG# #URL#'"
      ]
     },
     "execution_count": 12,
     "metadata": {},
     "output_type": "execute_result"
    }
   ],
   "source": [
    "X[0]"
   ]
  },
  {
   "cell_type": "code",
   "execution_count": 13,
   "id": "2b4ccc69",
   "metadata": {},
   "outputs": [],
   "source": [
    "X_train, X_test, y_train, y_test = train_test_split(X, y, test_size=0.3, random_state=42)\n",
    "X_dev, X_test, y_dev, y_test = train_test_split(X_test, y_test, test_size=0.5, random_state=42)"
   ]
  },
  {
   "cell_type": "code",
   "execution_count": 14,
   "id": "9e4eb514",
   "metadata": {},
   "outputs": [
    {
     "data": {
      "text/plain": [
       "294"
      ]
     },
     "execution_count": 14,
     "metadata": {},
     "output_type": "execute_result"
    }
   ],
   "source": [
    "len(X_train)"
   ]
  },
  {
   "cell_type": "code",
   "execution_count": 15,
   "id": "fba7a035",
   "metadata": {},
   "outputs": [
    {
     "data": {
      "text/plain": [
       "63"
      ]
     },
     "execution_count": 15,
     "metadata": {},
     "output_type": "execute_result"
    }
   ],
   "source": [
    "len(X_test)"
   ]
  },
  {
   "cell_type": "code",
   "execution_count": 16,
   "id": "5cd5a003",
   "metadata": {},
   "outputs": [
    {
     "data": {
      "text/plain": [
       "63"
      ]
     },
     "execution_count": 16,
     "metadata": {},
     "output_type": "execute_result"
    }
   ],
   "source": [
    "len(X_dev)"
   ]
  },
  {
   "cell_type": "code",
   "execution_count": 17,
   "id": "37f9ac3d",
   "metadata": {},
   "outputs": [],
   "source": [
    "def save_data(X, y, filename):\n",
    "    with open(filename, 'w') as f:\n",
    "        for i in range(len(X)):\n",
    "            f.write(str(y[i]) + '\\t' + X[i] + '\\n')"
   ]
  },
  {
   "cell_type": "code",
   "execution_count": 18,
   "id": "5fe24a40",
   "metadata": {},
   "outputs": [],
   "source": [
    "save_data(X_train, y_train, 'data/profile_BERT_FUL/train.csv')\n",
    "save_data(X_dev, y_dev, 'data/profile_BERT_FUL/dev.csv')\n",
    "save_data(X_test, y_test, 'data/profile_BERT_FUL/test.csv')"
   ]
  }
 ],
 "metadata": {
  "kernelspec": {
   "display_name": "Python 3.9 (tensorflow)",
   "language": "python",
   "name": "tensorflow"
  },
  "language_info": {
   "codemirror_mode": {
    "name": "ipython",
    "version": 3
   },
   "file_extension": ".py",
   "mimetype": "text/x-python",
   "name": "python",
   "nbconvert_exporter": "python",
   "pygments_lexer": "ipython3",
   "version": "3.9.7"
  }
 },
 "nbformat": 4,
 "nbformat_minor": 5
}
